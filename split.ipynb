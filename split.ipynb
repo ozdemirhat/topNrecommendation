{
 "cells": [
  {
   "cell_type": "code",
   "execution_count": null,
   "metadata": {
    "collapsed": true
   },
   "outputs": [],
   "source": [
    "import pandas as pd\n",
    "import numpy as np\n",
    "import scipy.sparse as sp\n",
    "import random"
   ]
  },
  {
   "cell_type": "code",
   "execution_count": null,
   "metadata": {
    "collapsed": true
   },
   "outputs": [],
   "source": [
    "data_file = pd.read_table('ml-1m/ratings.dat', sep = '::', header=None, engine='python')\n",
    "movie_file = pd.read_table('ml-1m/movies.dat', sep = '::', header=None, engine='python')"
   ]
  },
  {
   "cell_type": "code",
   "execution_count": null,
   "metadata": {
    "collapsed": true
   },
   "outputs": [],
   "source": [
    "users = np.unique(data_file[0])\n",
    "movies = np.unique(movie_file[0])\n",
    "\n",
    "n_users = len(users)\n",
    "n_movies = len(movies) \n",
    "\n",
    "movie_indices, user_indices = {}, {}\n",
    " \n",
    "for i in range(len(movies)):\n",
    "    movie_indices[movies[i]] = i \n",
    "    \n",
    "for i in range(len(users)):\n",
    "    user_indices[users[i]] = i "
   ]
  },
  {
   "cell_type": "code",
   "execution_count": null,
   "metadata": {
    "collapsed": true
   },
   "outputs": [],
   "source": [
    "V = sp.lil_matrix((n_users, n_movies))\n",
    "T = sp.lil_matrix((n_users, n_movies))\n",
    "for line in data_file.values:\n",
    "    u, i , r , time = map(int,line)\n",
    "    V[user_indices[u], movie_indices[i]] = r\n",
    "    T[user_indices[u], movie_indices[i]] = time"
   ]
  },
  {
   "cell_type": "code",
   "execution_count": null,
   "metadata": {
    "collapsed": true
   },
   "outputs": [],
   "source": [
    "print(V.shape, T.shape)"
   ]
  },
  {
   "cell_type": "code",
   "execution_count": null,
   "metadata": {
    "collapsed": true
   },
   "outputs": [],
   "source": [
    "ratio = 0.3\n",
    "training = []\n",
    "test = []\n",
    "for user in range(V.shape[0]):\n",
    "    nonzero = np.nonzero(V[user,:])[1]\n",
    "    testsize = len(nonzero) * ratio\n",
    "    while len(nonzero) > testsize:\n",
    "        x = random.randint(0, len(nonzero) - 1)\n",
    "        training.append((user + 1, movies[nonzero[x]], V[user,nonzero[x]], T[user,nonzero[x]]))\n",
    "        nonzero = np.delete(nonzero, x)\n",
    "    for movie in nonzero:\n",
    "        test.append((user + 1, movies[movie], V[user,movie], T[user,movie]))\n",
    "print(len(training), len(test))"
   ]
  },
  {
   "cell_type": "code",
   "execution_count": null,
   "metadata": {
    "collapsed": true
   },
   "outputs": [],
   "source": [
    "training_file = open('data/training.csv', 'r+')\n",
    "test_file = open('data/test.csv', 'r+')\n",
    "training_file.truncate()\n",
    "test_file.truncate()\n",
    "for row in training:\n",
    "    training_file.write(str(row[0]) + \",\" + str(row[1]) + \",\" + str(int(row[2])) + \",\" + str(int(row[3])) + \"\\n\")\n",
    "training_file.close()\n",
    "for row in test:\n",
    "    test_file.write(str(row[0]) + \",\" + str(row[1]) + \",\" + str(int(row[2])) + \",\" + str(int(row[3])) + \"\\n\")\n",
    "test_file.close()"
   ]
  },
  {
   "cell_type": "code",
   "execution_count": null,
   "metadata": {
    "collapsed": true
   },
   "outputs": [],
   "source": []
  }
 ],
 "metadata": {
  "kernelspec": {
   "display_name": "Python 2",
   "language": "python",
   "name": "python2"
  },
  "language_info": {
   "codemirror_mode": {
    "name": "ipython",
    "version": 2
   },
   "file_extension": ".py",
   "mimetype": "text/x-python",
   "name": "python",
   "nbconvert_exporter": "python",
   "pygments_lexer": "ipython2",
   "version": "2.7.13"
  }
 },
 "nbformat": 4,
 "nbformat_minor": 2
}
