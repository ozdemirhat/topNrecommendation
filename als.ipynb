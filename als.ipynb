{
 "cells": [
  {
   "cell_type": "code",
   "execution_count": null,
   "metadata": {
    "collapsed": true
   },
   "outputs": [],
   "source": [
    "%load_ext autotime"
   ]
  },
  {
   "cell_type": "code",
   "execution_count": null,
   "metadata": {},
   "outputs": [],
   "source": [
    "import pandas as pd\n",
    "import numpy as np\n",
    "import implicit as imp\n",
    "import scipy.sparse as sp\n",
    "import time"
   ]
  },
  {
   "cell_type": "code",
   "execution_count": null,
   "metadata": {},
   "outputs": [],
   "source": [
    "np.__config__.show()"
   ]
  },
  {
   "cell_type": "code",
   "execution_count": null,
   "metadata": {},
   "outputs": [],
   "source": [
    "data_file = pd.read_table('data/training.csv', sep = ',', header=None, engine='python')\n",
    "print(data_file.shape)\n",
    "movie_file = pd.read_table('ml-1m/movies.dat', sep = '::', header=None, engine='python')\n",
    "print(movie_file.shape)"
   ]
  },
  {
   "cell_type": "code",
   "execution_count": null,
   "metadata": {
    "collapsed": true
   },
   "outputs": [],
   "source": [
    "#movies 3666(gercege karşılık gelen index) alıp 3952(gerçekid) döner, movie_indices 3952 alıp 3666 döner\n",
    "users = np.unique(data_file[0]) # 1(0.idex) den 6040(6039.index) a kadar\n",
    "movies = np.unique(movie_file[0]) # 1(0.idex) den 3952(3666.idex) ye kadar\n",
    "\n",
    "number_of_rows = len(users) #6040\n",
    "number_of_columns = len(movies) #3667\n",
    "\n",
    "movie_indices, user_indices = {}, {}\n",
    " \n",
    "for i in range(len(movies)):\n",
    "    movie_indices[movies[i]] = i # movie_indices[3952] = 3666 x.filmin indisini verir\n",
    "    \n",
    "for i in range(len(users)):\n",
    "    user_indices[users[i]] = i # x.userın indisini verir"
   ]
  },
  {
   "cell_type": "code",
   "execution_count": null,
   "metadata": {
    "collapsed": true
   },
   "outputs": [],
   "source": [
    "V = sp.lil_matrix((number_of_rows, number_of_columns))\n",
    "for line in data_file.values:\n",
    "    u, i , r , gona = map(int,line)\n",
    "    V[user_indices[u], movie_indices[i]] = r # gerçek user ve movie idnin indexini bulup ratingi matrixteki yere atar"
   ]
  },
  {
   "cell_type": "code",
   "execution_count": null,
   "metadata": {
    "collapsed": true
   },
   "outputs": [],
   "source": [
    "alsModel = imp.als.AlternatingLeastSquares(factors=50)\n",
    "alsModel.fit(V)\n",
    "print(alsModel)"
   ]
  },
  {
   "cell_type": "code",
   "execution_count": null,
   "metadata": {
    "collapsed": true
   },
   "outputs": [],
   "source": [
    "lambd = 0.1\n",
    "factors = 16\n",
    "iteration = 50\n",
    "def als(matrix):\n",
    "    X = 5 * np.random.rand(matrix.shape[0], factors) \n",
    "    Y = 5 * np.random.rand(factors, matrix.shape[1])\n",
    "    for ii in range(iteration):\n",
    "        print(ii, X, time.ctime())\n",
    "        X = np.linalg.solve(np.dot(Y, Y.T) + lambd * np.eye(factors), np.dot(Y, matrix.T)).T\n",
    "        print(ii, Y, time.ctime())\n",
    "        Y = np.linalg.solve(np.dot(X.T, X) + lambd * np.eye(factors),np.dot(X.T, matrix))\n",
    "    return (X,Y)"
   ]
  },
  {
   "cell_type": "code",
   "execution_count": null,
   "metadata": {
    "collapsed": true
   },
   "outputs": [],
   "source": [
    "result = als(V)"
   ]
  },
  {
   "cell_type": "code",
   "execution_count": null,
   "metadata": {
    "collapsed": true
   },
   "outputs": [],
   "source": []
  }
 ],
 "metadata": {
  "kernelspec": {
   "display_name": "Python 3",
   "language": "python",
   "name": "python3"
  },
  "language_info": {
   "codemirror_mode": {
    "name": "ipython",
    "version": 3
   },
   "file_extension": ".py",
   "mimetype": "text/x-python",
   "name": "python",
   "nbconvert_exporter": "python",
   "pygments_lexer": "ipython3",
   "version": "3.6.1"
  }
 },
 "nbformat": 4,
 "nbformat_minor": 2
}
