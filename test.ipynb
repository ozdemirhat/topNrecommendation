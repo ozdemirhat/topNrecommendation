{
 "cells": [
  {
   "cell_type": "markdown",
   "metadata": {},
   "source": [
    "# An ensemble method for top-N recommendations from the SVD"
   ]
  },
  {
   "cell_type": "markdown",
   "metadata": {},
   "source": [
    "## SVD"
   ]
  },
  {
   "cell_type": "code",
   "execution_count": 1,
   "metadata": {
    "collapsed": true
   },
   "outputs": [],
   "source": [
    "import pandas as pd\n",
    "import numpy as np\n",
    "import scipy.sparse as sp\n",
    "from scipy.sparse.linalg import svds\n",
    "import pickle"
   ]
  },
  {
   "cell_type": "code",
   "execution_count": 2,
   "metadata": {
    "collapsed": false
   },
   "outputs": [
    {
     "data": {
      "text/plain": [
       "(700146, 4)"
      ]
     },
     "execution_count": 2,
     "metadata": {},
     "output_type": "execute_result"
    }
   ],
   "source": [
    "data_file = pd.read_table('data/training.csv', sep = ',', header=None, engine='python')\n",
    "data_file.shape"
   ]
  },
  {
   "cell_type": "code",
   "execution_count": 3,
   "metadata": {
    "collapsed": true
   },
   "outputs": [],
   "source": [
    "users = np.unique(data_file[0])\n",
    "movies = np.unique(data_file[1])\n",
    " \n",
    "number_of_rows = len(users)\n",
    "number_of_columns = len(movies)\n",
    "\n",
    "movie_indices, user_indices = {}, {}\n",
    " \n",
    "for i in range(len(movies)):\n",
    "    movie_indices[movies[i]] = i\n",
    "    \n",
    "for i in range(len(users)):\n",
    "    user_indices[users[i]] = i"
   ]
  },
  {
   "cell_type": "code",
   "execution_count": 4,
   "metadata": {
    "collapsed": true
   },
   "outputs": [],
   "source": [
    "V = sp.lil_matrix((number_of_rows, number_of_columns))\n",
    "for line in data_file.values:\n",
    "    u, i , r , gona = map(int,line)\n",
    "    V[user_indices[u], movie_indices[i]] = r"
   ]
  },
  {
   "cell_type": "code",
   "execution_count": 5,
   "metadata": {
    "collapsed": true
   },
   "outputs": [],
   "source": [
    "u,s, vt = svds(V, k = 32)"
   ]
  },
  {
   "cell_type": "code",
   "execution_count": 6,
   "metadata": {
    "collapsed": true
   },
   "outputs": [],
   "source": [
    "s_diag_matrix = np.zeros((s.shape[0], s.shape[0]))\n",
    "\n",
    "for i in range(s.shape[0]):\n",
    "    s_diag_matrix[i,i] = s[i]"
   ]
  },
  {
   "cell_type": "code",
   "execution_count": 7,
   "metadata": {
    "collapsed": true
   },
   "outputs": [],
   "source": [
    "X_lr = np.dot(np.dot(u, s_diag_matrix), vt)"
   ]
  },
  {
   "cell_type": "code",
   "execution_count": 8,
   "metadata": {
    "collapsed": false
   },
   "outputs": [
    {
     "name": "stdout",
     "output_type": "stream",
     "text": [
      "(60086, 57258)\n"
     ]
    }
   ],
   "source": [
    "negcounter = 0\n",
    "poscounter = 0\n",
    "for i in range(0,32):\n",
    "    for factor in vt[i,:]:\n",
    "        if factor > 0:\n",
    "            poscounter = poscounter + 1\n",
    "        else:\n",
    "            negcounter = negcounter + 1\n",
    "print(negcounter,poscounter)"
   ]
  },
  {
   "cell_type": "code",
   "execution_count": 9,
   "metadata": {
    "collapsed": false
   },
   "outputs": [
    {
     "data": {
      "text/plain": [
       "0.0011746514999285325"
      ]
     },
     "execution_count": 9,
     "metadata": {},
     "output_type": "execute_result"
    }
   ],
   "source": [
    "X_lr[0,2354]"
   ]
  },
  {
   "cell_type": "code",
   "execution_count": 10,
   "metadata": {
    "collapsed": false
   },
   "outputs": [],
   "source": [
    "#X_lr.tofile(file = 'data/svdresults.csv', sep = \"::\")"
   ]
  },
  {
   "cell_type": "code",
   "execution_count": 11,
   "metadata": {
    "collapsed": false
   },
   "outputs": [
    {
     "data": {
      "text/plain": [
       "array([1826, 2626,  253, ..., 1108,  793, 2626])"
      ]
     },
     "execution_count": 11,
     "metadata": {},
     "output_type": "execute_result"
    }
   ],
   "source": [
    "X_lr.argmax(axis=1)"
   ]
  },
  {
   "cell_type": "code",
   "execution_count": 12,
   "metadata": {
    "collapsed": false
   },
   "outputs": [
    {
     "name": "stdout",
     "output_type": "stream",
     "text": [
      "[[1826  511  253 1094 2873]\n",
      " [2626 2349 1826  106  572]\n",
      " [ 253 1095 1094 2626 1108]\n",
      " ..., \n",
      " [1108 1047 1161    0 1054]\n",
      " [ 793  838 1047 1095 1877]\n",
      " [2626  576  590  793 1014]]\n"
     ]
    }
   ],
   "source": [
    "mx = X_lr.argsort(axis=1)\n",
    "mx = np.fliplr(mx)\n",
    "print mx[:,:5]"
   ]
  },
  {
   "cell_type": "code",
   "execution_count": 13,
   "metadata": {
    "collapsed": false
   },
   "outputs": [
    {
     "data": {
      "text/plain": [
       "(6040, 3667)"
      ]
     },
     "execution_count": 13,
     "metadata": {},
     "output_type": "execute_result"
    }
   ],
   "source": [
    "X_lr.shape"
   ]
  },
  {
   "cell_type": "markdown",
   "metadata": {},
   "source": [
    "## Ensemble Method for Top-N Recommendations"
   ]
  },
  {
   "cell_type": "code",
   "execution_count": 14,
   "metadata": {
    "collapsed": true
   },
   "outputs": [],
   "source": [
    "class Node:\n",
    "    def __init__(self):\n",
    "        self.itemFactors = np.empty(shape = (32,0))\n",
    "        self.userFactors = np.empty(shape = (32,0))\n",
    "        self.factor = None\n",
    "        self.score = 0\n",
    "        self.left = None\n",
    "        self.right = None"
   ]
  },
  {
   "cell_type": "code",
   "execution_count": 15,
   "metadata": {
    "collapsed": true
   },
   "outputs": [],
   "source": [
    "def printNode(node):\n",
    "    print(\"itemFactors :\") \n",
    "    #print(node.itemFactors)\n",
    "    print(node.itemFactors.shape)\n",
    "    print(\"userFactors :\")\n",
    "    #print(node.userFactors)\n",
    "    print(node.userFactors.shape)\n",
    "    print(\"factor :\")\n",
    "    print(node.factor)\n",
    "    print(\"score :\")\n",
    "    print(node.score)\n",
    "    #print(\"left :\")\n",
    "    #print(node.left)\n",
    "    #print(\"right :\")\n",
    "    #print(node.right)\n",
    "def printTree(node):\n",
    "    printNode(node)\n",
    "    if (node.left != None):\n",
    "        print(\"LEFT :\")\n",
    "        printTree(node.left)\n",
    "    if (node.right != None):\n",
    "        print(\"RIGHT :\")\n",
    "        printTree(node.right)\n",
    "def countLeaves(node):\n",
    "    count = 0\n",
    "    if (node.left != None):\n",
    "        if (node.left.itemFactors.shape[1] <= 300):\n",
    "            count += 1\n",
    "        else:\n",
    "            count += countLeaves(node.left)\n",
    "    if (node.right != None):\n",
    "        if (node.right.itemFactors.shape[1] <= 300):\n",
    "            count += 1\n",
    "        else:\n",
    "            count += countLeaves(node.right)\n",
    "    return count"
   ]
  },
  {
   "cell_type": "code",
   "execution_count": 16,
   "metadata": {
    "collapsed": true
   },
   "outputs": [],
   "source": [
    "V = Node()\n",
    "V.itemFactors = vt\n",
    "V.userFactors = u"
   ]
  },
  {
   "cell_type": "code",
   "execution_count": 17,
   "metadata": {
    "collapsed": false
   },
   "outputs": [
    {
     "data": {
      "text/plain": [
       "(32, 3667)"
      ]
     },
     "execution_count": 17,
     "metadata": {},
     "output_type": "execute_result"
    }
   ],
   "source": [
    "V.itemFactors.shape"
   ]
  },
  {
   "cell_type": "code",
   "execution_count": 18,
   "metadata": {
    "collapsed": false
   },
   "outputs": [
    {
     "data": {
      "text/plain": [
       "(6040, 32)"
      ]
     },
     "execution_count": 18,
     "metadata": {},
     "output_type": "execute_result"
    }
   ],
   "source": [
    "V.userFactors.shape"
   ]
  },
  {
   "cell_type": "code",
   "execution_count": 19,
   "metadata": {
    "collapsed": true
   },
   "outputs": [],
   "source": [
    "def splitNode(node, factor):\n",
    "    node.left = Node()\n",
    "    node.right = Node()\n",
    "    left = 0 #flag and counter\n",
    "    right = 0\n",
    "    empt = Node()\n",
    "    if (np.array_equal(node.itemFactors, empt.itemFactors) == False):   #bos item factor girebilir mi cond dene\n",
    "    #if (len(node.itemFactors.shape) > 1):   #bos item factor girebilir mi cond dene\n",
    "        #print(node.itemFactors.shape)\n",
    "        for i in range(node.itemFactors.shape[1]):\n",
    "            #print(node.itemFactors[:, i])\n",
    "            if (node.itemFactors[:, i][factor] >= 0 ):\n",
    "                if (left == 0):\n",
    "                    node.left.itemFactors = node.itemFactors[:, i]\n",
    "                else:\n",
    "                    node.left.itemFactors = np.vstack((node.left.itemFactors, node.itemFactors[:, i]))\n",
    "                left += 1\n",
    "            else:\n",
    "                #continue\n",
    "                if (right == 0):\n",
    "                    node.right.itemFactors = node.itemFactors[:, i]\n",
    "                else:\n",
    "                    node.right.itemFactors =np.vstack((node.right.itemFactors, node.itemFactors[:, i]))\n",
    "                right += 1\n",
    "        node.left.itemFactors = np.transpose(node.left.itemFactors)\n",
    "        node.right.itemFactors = np.transpose(node.right.itemFactors)\n",
    "    else:\n",
    "        print('itemFactors not available')\n",
    "    left = 0\n",
    "    right = 0\n",
    "    if (np.array_equal(node.userFactors, empt.userFactors) == False):   #bos user factor girebilme ihtimali dusun\n",
    "    #if (len(node.userFactors.shape) > 1):   #bos user factor girebilme ihtimali dusun\n",
    "        #print(node.userFactors.shape)\n",
    "        for i in range(node.userFactors.shape[0]):\n",
    "            if (node.userFactors[i, :][factor] >= 0 ):\n",
    "                if (left == 0):\n",
    "                    node.left.userFactors = node.userFactors[i, :]\n",
    "                else:\n",
    "                    node.left.userFactors = np.vstack((node.left.userFactors, node.userFactors[i, :]))\n",
    "                left += 1\n",
    "            else:\n",
    "                if (right == 0):\n",
    "                    node.right.userFactors = node.userFactors[i, :]\n",
    "                else:\n",
    "                    node.right.userFactors = np.vstack((node.right.userFactors, node.userFactors[i, :]))\n",
    "                right += 1\n",
    "    else:\n",
    "        print('userFactors not available')\n",
    "    #node.score =  computePrecision(node)"
   ]
  },
  {
   "cell_type": "code",
   "execution_count": 20,
   "metadata": {
    "collapsed": false
   },
   "outputs": [
    {
     "ename": "IndentationError",
     "evalue": "expected an indented block (<ipython-input-20-1e092fe67733>, line 2)",
     "output_type": "error",
     "traceback": [
      "\u001b[0;36m  File \u001b[0;32m\"<ipython-input-20-1e092fe67733>\"\u001b[0;36m, line \u001b[0;32m2\u001b[0m\n\u001b[0;31m    \u001b[0m\n\u001b[0m    ^\u001b[0m\n\u001b[0;31mIndentationError\u001b[0m\u001b[0;31m:\u001b[0m expected an indented block\n"
     ]
    }
   ],
   "source": [
    "def computePrecision(node):\n",
    "    \n",
    "    "
   ]
  },
  {
   "cell_type": "code",
   "execution_count": null,
   "metadata": {
    "collapsed": true
   },
   "outputs": [],
   "source": [
    "def buildTree(node, factors):\n",
    "    #printNode(node)\n",
    "    #print(factors)\n",
    "    empt = Node()\n",
    "    if (len(node.itemFactors.shape) > 1 and node.itemFactors.shape[1] <= 300):\n",
    "        print(\"Threshold value is reached\")\n",
    "        return node\n",
    "    elif (len(node.itemFactors.shape) <= 1):\n",
    "        print('one item factor')\n",
    "        return node\n",
    "    elif (node.itemFactors.shape[1] == 0):\n",
    "        print('no item factor')\n",
    "        return node\n",
    "    winner = Node()\n",
    "    if not factors:\n",
    "        print('factors empty')\n",
    "        return node\n",
    "    for factor in factors:\n",
    "        node.factor = factor\n",
    "        splitNode(node,factor)\n",
    "        if (node.score >= winner.score):\n",
    "            winner = node\n",
    "    factors.remove(winner.factor)\n",
    "    node.factor = winner.factor\n",
    "    lfactors = list(factors)\n",
    "    rfactors = list(factors)\n",
    "    buildTree(winner.left, lfactors)\n",
    "    buildTree(winner.right, rfactors)\n",
    "    return node\n",
    "    "
   ]
  },
  {
   "cell_type": "code",
   "execution_count": null,
   "metadata": {
    "collapsed": false
   },
   "outputs": [],
   "source": [
    "def getFactorGroups(size, p, a):\n",
    "    print (\"hello\")"
   ]
  },
  {
   "cell_type": "code",
   "execution_count": null,
   "metadata": {
    "collapsed": true
   },
   "outputs": [],
   "source": [
    "def buildForest(factors, p, a, sl):\n",
    "    groups = getFactorGroups(len(factors), p, a)\n",
    "    for g in groups:\n",
    "        V = Node()\n",
    "        V.itemFactors = vt\n",
    "        V.userFactors = u\n",
    "       # buildTee(V,g)\n",
    "        forest.append(V)\n",
    "    return forest"
   ]
  },
  {
   "cell_type": "code",
   "execution_count": null,
   "metadata": {
    "collapsed": false
   },
   "outputs": [],
   "source": [
    "factors = []\n",
    "factors.extend(range(0,s.size))\n",
    "getFactorGroups(factors, 0.5, 3)"
   ]
  },
  {
   "cell_type": "code",
   "execution_count": null,
   "metadata": {
    "collapsed": false
   },
   "outputs": [],
   "source": [
    "print(V.itemFactors.shape)\n",
    "print(V.userFactors.shape)"
   ]
  },
  {
   "cell_type": "code",
   "execution_count": null,
   "metadata": {
    "collapsed": false
   },
   "outputs": [],
   "source": [
    "splitNode(V,0)\n",
    "print(V.right.itemFactors.shape)\n",
    "print(V.left.itemFactors.shape)\n",
    "print(V.right.userFactors.shape)\n",
    "print(V.left.userFactors.shape)\n",
    "printNode(V)"
   ]
  },
  {
   "cell_type": "code",
   "execution_count": null,
   "metadata": {
    "collapsed": false
   },
   "outputs": [],
   "source": [
    "factors = []\n",
    "factors.extend(range(0,s.size))\n",
    "buildTree(V,factors)"
   ]
  },
  {
   "cell_type": "code",
   "execution_count": null,
   "metadata": {
    "collapsed": false,
    "scrolled": true
   },
   "outputs": [],
   "source": [
    "print(\"ROOT :\")\n",
    "printTree(V)"
   ]
  },
  {
   "cell_type": "code",
   "execution_count": null,
   "metadata": {
    "collapsed": false
   },
   "outputs": [],
   "source": [
    "countLeaves(V)"
   ]
  },
  {
   "cell_type": "code",
   "execution_count": null,
   "metadata": {
    "collapsed": true
   },
   "outputs": [],
   "source": []
  }
 ],
 "metadata": {
  "anaconda-cloud": {},
  "kernelspec": {
   "display_name": "Python 2",
   "language": "python",
   "name": "python2"
  },
  "language_info": {
   "codemirror_mode": {
    "name": "ipython",
    "version": 2
   },
   "file_extension": ".py",
   "mimetype": "text/x-python",
   "name": "python",
   "nbconvert_exporter": "python",
   "pygments_lexer": "ipython2",
   "version": "2.7.13"
  }
 },
 "nbformat": 4,
 "nbformat_minor": 1
}
