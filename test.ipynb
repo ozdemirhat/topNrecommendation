{
 "cells": [
  {
   "cell_type": "code",
   "execution_count": null,
   "metadata": {
    "collapsed": true
   },
   "outputs": [],
   "source": [
    "import pandas as pd\n",
    "import numpy as np\n",
    "import scipy.sparse as sp\n",
    "from scipy.sparse.linalg import svds\n",
    "import pickle"
   ]
  },
  {
   "cell_type": "code",
   "execution_count": null,
   "metadata": {
    "collapsed": true
   },
   "outputs": [],
   "source": [
    "data_file = pd.read_table('data/training.csv', sep = ',', header=None, engine='python')"
   ]
  },
  {
   "cell_type": "code",
   "execution_count": null,
   "metadata": {},
   "outputs": [],
   "source": [
    "data_file.describe\n",
    "data_file.shape"
   ]
  },
  {
   "cell_type": "code",
   "execution_count": null,
   "metadata": {
    "collapsed": true
   },
   "outputs": [],
   "source": [
    "users = np.unique(data_file[0])\n",
    "movies = np.unique(data_file[1])\n",
    " \n",
    "number_of_rows = len(users)\n",
    "number_of_columns = len(movies)\n",
    "\n",
    "movie_indices, user_indices = {}, {}\n",
    " \n",
    "for i in range(len(movies)):\n",
    "    movie_indices[movies[i]] = i\n",
    "    \n",
    "for i in range(len(users)):\n",
    "    user_indices[users[i]] = i"
   ]
  },
  {
   "cell_type": "code",
   "execution_count": null,
   "metadata": {},
   "outputs": [],
   "source": [
    "np.unique(data_file[0])"
   ]
  },
  {
   "cell_type": "code",
   "execution_count": null,
   "metadata": {},
   "outputs": [],
   "source": [
    "#scipy sparse matrix to store the 1M matrix\n",
    "V = sp.lil_matrix((number_of_rows, number_of_columns))\n",
    "\n",
    "#adds data into the sparse matrix\n",
    "for line in data_file.values:\n",
    "    u, i , r , gona = map(int,line)\n",
    "    V[user_indices[u], movie_indices[i]] = r"
   ]
  },
  {
   "cell_type": "code",
   "execution_count": null,
   "metadata": {
    "collapsed": true
   },
   "outputs": [],
   "source": [
    "#as these operations consume a lot of time, it's better to save processed data \n",
    "with open('movielens_1M.pickle', 'wb') as handle:\n",
    "    pickle.dump(V, handle)"
   ]
  },
  {
   "cell_type": "code",
   "execution_count": null,
   "metadata": {},
   "outputs": [],
   "source": [
    "V.shape"
   ]
  },
  {
   "cell_type": "code",
   "execution_count": null,
   "metadata": {},
   "outputs": [],
   "source": [
    "V.toarray()"
   ]
  },
  {
   "cell_type": "code",
   "execution_count": null,
   "metadata": {
    "collapsed": true
   },
   "outputs": [],
   "source": [
    "#as these operations consume a lot of time, it's better to save processed data \n",
    "#gets SVD components from 10M matrix\n",
    "u,s, vt = svds(V, k = 32)\n",
    " \n",
    "with open('movielens_1M_svd_u.pickle', 'wb') as handle:\n",
    "    pickle.dump(u, handle)\n",
    "with open('movielens_1M_svd_s.pickle', 'wb') as handle:\n",
    "    pickle.dump(s, handle)\n",
    "with open('movielens_1M_svd_vt.pickle', 'wb') as handle:\n",
    "    pickle.dump(vt, handle)"
   ]
  },
  {
   "cell_type": "code",
   "execution_count": null,
   "metadata": {},
   "outputs": [],
   "source": [
    "u.shape"
   ]
  },
  {
   "cell_type": "code",
   "execution_count": null,
   "metadata": {},
   "outputs": [],
   "source": [
    "u"
   ]
  },
  {
   "cell_type": "code",
   "execution_count": null,
   "metadata": {},
   "outputs": [],
   "source": [
    "s.shape"
   ]
  },
  {
   "cell_type": "code",
   "execution_count": null,
   "metadata": {},
   "outputs": [],
   "source": [
    "s"
   ]
  },
  {
   "cell_type": "code",
   "execution_count": null,
   "metadata": {},
   "outputs": [],
   "source": [
    "vt.shape"
   ]
  },
  {
   "cell_type": "code",
   "execution_count": null,
   "metadata": {},
   "outputs": [],
   "source": [
    "vt"
   ]
  },
  {
   "cell_type": "code",
   "execution_count": null,
   "metadata": {},
   "outputs": [],
   "source": [
    "negcounter = 0\n",
    "poscounter = 0\n",
    "for i in range(0,32):\n",
    "    for factor in vt[i,:]:\n",
    "        if factor > 0:\n",
    "            poscounter = poscounter + 1\n",
    "        else:\n",
    "            negcounter = negcounter + 1\n",
    "print(negcounter,poscounter)"
   ]
  },
  {
   "cell_type": "code",
   "execution_count": null,
   "metadata": {
    "collapsed": true
   },
   "outputs": [],
   "source": [
    "s_diag_matrix = np.zeros((s.shape[0], s.shape[0]))\n",
    "\n",
    "for i in range(s.shape[0]):\n",
    "    s_diag_matrix[i,i] = s[i]"
   ]
  },
  {
   "cell_type": "code",
   "execution_count": null,
   "metadata": {
    "collapsed": true
   },
   "outputs": [],
   "source": [
    "X_lr = np.dot(np.dot(u, s_diag_matrix), vt)"
   ]
  },
  {
   "cell_type": "code",
   "execution_count": null,
   "metadata": {},
   "outputs": [],
   "source": [
    "X_lr"
   ]
  },
  {
   "cell_type": "code",
   "execution_count": null,
   "metadata": {},
   "outputs": [],
   "source": [
    "X_lr.shape"
   ]
  },
  {
   "cell_type": "code",
   "execution_count": null,
   "metadata": {},
   "outputs": [],
   "source": [
    "X_lr.size"
   ]
  },
  {
   "cell_type": "code",
   "execution_count": null,
   "metadata": {
    "collapsed": true
   },
   "outputs": [],
   "source": [
    "class Node:\n",
    "    def __init__(self):\n",
    "        self.itemFactors = np.empty(shape = (32,0))\n",
    "        self.userFactors = np.empty(shape = (32,0))\n",
    "        self.factor = None\n",
    "        self.score = 0\n",
    "        self.left = None\n",
    "        self.right = None"
   ]
  },
  {
   "cell_type": "code",
   "execution_count": null,
   "metadata": {
    "collapsed": true
   },
   "outputs": [],
   "source": [
    "def printNode(node):\n",
    "    print(\"itemFactors :\") \n",
    "    #print(node.itemFactors)\n",
    "    print(node.itemFactors.shape)\n",
    "    print(\"userFactors :\")\n",
    "    #print(node.userFactors)\n",
    "    print(node.userFactors.shape)\n",
    "    print(\"factor :\")\n",
    "    print(node.factor)\n",
    "    print(\"score :\")\n",
    "    print(node.score)\n",
    "    #print(\"left :\")\n",
    "    #print(node.left)\n",
    "    #print(\"right :\")\n",
    "    #print(node.right)\n",
    "def printTree(node):\n",
    "    printNode(node)\n",
    "    if (node.left != None):\n",
    "        print(\"LEFT :\")\n",
    "        printTree(node.left)\n",
    "    if (node.right != None):\n",
    "        print(\"RIGHT :\")\n",
    "        printTree(node.right)\n",
    "def countLeaves(node):\n",
    "    count = 0\n",
    "    if (node.left != None):\n",
    "        if (node.left.itemFactors.shape[1] <= 300):\n",
    "            count += 1\n",
    "        else:\n",
    "            count += countLeaves(node.left)\n",
    "    if (node.right != None):\n",
    "        if (node.right.itemFactors.shape[1] <= 300):\n",
    "            count += 1\n",
    "        else:\n",
    "            count += countLeaves(node.right)\n",
    "    return count"
   ]
  },
  {
   "cell_type": "code",
   "execution_count": null,
   "metadata": {
    "collapsed": true
   },
   "outputs": [],
   "source": [
    "V = Node()\n",
    "V.itemFactors = vt\n",
    "V.userFactors = u"
   ]
  },
  {
   "cell_type": "code",
   "execution_count": null,
   "metadata": {},
   "outputs": [],
   "source": [
    "V.itemFactors.shape"
   ]
  },
  {
   "cell_type": "code",
   "execution_count": null,
   "metadata": {},
   "outputs": [],
   "source": [
    "V.userFactors.shape"
   ]
  },
  {
   "cell_type": "code",
   "execution_count": null,
   "metadata": {
    "collapsed": true
   },
   "outputs": [],
   "source": [
    "def splitNode(node, factor):\n",
    "    node.left = Node()\n",
    "    node.right = Node()\n",
    "    left = 0 #flag and counter\n",
    "    right = 0\n",
    "    empt = Node()\n",
    "    if (np.array_equal(node.itemFactors, empt.itemFactors) == False):   #bos item factor girebilir mi cond dene\n",
    "    #if (len(node.itemFactors.shape) > 1):   #bos item factor girebilir mi cond dene\n",
    "        #print(node.itemFactors.shape)\n",
    "        for i in range(node.itemFactors.shape[1]):\n",
    "            #print(node.itemFactors[:, i])\n",
    "            if (node.itemFactors[:, i][factor] >= 0 ):\n",
    "                if (left == 0):\n",
    "                    node.left.itemFactors = node.itemFactors[:, i]\n",
    "                else:\n",
    "                    node.left.itemFactors = np.vstack((node.left.itemFactors, node.itemFactors[:, i]))\n",
    "                left += 1\n",
    "            else:\n",
    "                #continue\n",
    "                if (right == 0):\n",
    "                    node.right.itemFactors = node.itemFactors[:, i]\n",
    "                else:\n",
    "                    node.right.itemFactors =np.vstack((node.right.itemFactors, node.itemFactors[:, i]))\n",
    "                right += 1\n",
    "        node.left.itemFactors = np.transpose(node.left.itemFactors)\n",
    "        node.right.itemFactors = np.transpose(node.right.itemFactors)\n",
    "    else:\n",
    "        print('itemFactors not available')\n",
    "    left = 0\n",
    "    right = 0\n",
    "    if (np.array_equal(node.userFactors, empt.userFactors) == False):   #bos user factor girebilme ihtimali dusun\n",
    "    #if (len(node.userFactors.shape) > 1):   #bos user factor girebilme ihtimali dusun\n",
    "        #print(node.userFactors.shape)\n",
    "        for i in range(node.userFactors.shape[0]):\n",
    "            if (node.userFactors[i, :][factor] >= 0 ):\n",
    "                if (left == 0):\n",
    "                    node.left.userFactors = node.userFactors[i, :]\n",
    "                else:\n",
    "                    node.left.userFactors = np.vstack((node.left.userFactors, node.userFactors[i, :]))\n",
    "                left += 1\n",
    "            else:\n",
    "                if (right == 0):\n",
    "                    node.right.userFactors = node.userFactors[i, :]\n",
    "                else:\n",
    "                    node.right.userFactors = np.vstack((node.right.userFactors, node.userFactors[i, :]))\n",
    "                right += 1\n",
    "    else:\n",
    "        print('userFactors not available')\n",
    "    #node.score =  computePrecision(node)"
   ]
  },
  {
   "cell_type": "code",
   "execution_count": null,
   "metadata": {
    "collapsed": true
   },
   "outputs": [],
   "source": [
    "def buildTree(node, factors):\n",
    "    #printNode(node)\n",
    "    #print(factors)\n",
    "    empt = Node()\n",
    "    if (len(node.itemFactors.shape) > 1 and node.itemFactors.shape[1] <= 300):\n",
    "        print(\"Threshold value is reached\")\n",
    "        return node\n",
    "    elif (len(node.itemFactors.shape) <= 1):\n",
    "        print('one item factor')\n",
    "        return node\n",
    "    elif (node.itemFactors.shape[1] == 0):\n",
    "        print('no item factor')\n",
    "        return node\n",
    "    winner = Node()\n",
    "    if not factors:\n",
    "        print('factors empty')\n",
    "        return node\n",
    "    for factor in factors:\n",
    "        node.factor = factor\n",
    "        splitNode(node,factor)\n",
    "        if (node.score >= winner.score):\n",
    "            winner = node\n",
    "    factors.remove(winner.factor)\n",
    "    node.factor = winner.factor\n",
    "    lfactors = list(factors)\n",
    "    rfactors = list(factors)\n",
    "    buildTree(winner.left, lfactors)\n",
    "    buildTree(winner.right, rfactors)\n",
    "    return node\n",
    "    "
   ]
  },
  {
   "cell_type": "code",
   "execution_count": null,
   "metadata": {},
   "outputs": [],
   "source": [
    "print(V.itemFactors.shape)\n",
    "print(V.userFactors.shape)"
   ]
  },
  {
   "cell_type": "code",
   "execution_count": null,
   "metadata": {},
   "outputs": [],
   "source": [
    "splitNode(V,0)\n",
    "print(V.right.itemFactors.shape)\n",
    "print(V.left.itemFactors.shape)\n",
    "print(V.right.userFactors.shape)\n",
    "print(V.left.userFactors.shape)\n",
    "printNode(V)"
   ]
  },
  {
   "cell_type": "code",
   "execution_count": null,
   "metadata": {},
   "outputs": [],
   "source": [
    "factors = []\n",
    "factors.extend(range(0,s.size))\n",
    "buildTree(V,factors)"
   ]
  },
  {
   "cell_type": "code",
   "execution_count": null,
   "metadata": {
    "scrolled": true
   },
   "outputs": [],
   "source": [
    "print(\"ROOT :\")\n",
    "printTree(V)"
   ]
  },
  {
   "cell_type": "code",
   "execution_count": null,
   "metadata": {},
   "outputs": [],
   "source": [
    "countLeaves(V)"
   ]
  },
  {
   "cell_type": "code",
   "execution_count": null,
   "metadata": {
    "collapsed": true
   },
   "outputs": [],
   "source": []
  }
 ],
 "metadata": {
  "anaconda-cloud": {},
  "kernelspec": {
   "display_name": "Python 3",
   "language": "python",
   "name": "python3"
  },
  "language_info": {
   "codemirror_mode": {
    "name": "ipython",
    "version": 3
   },
   "file_extension": ".py",
   "mimetype": "text/x-python",
   "name": "python",
   "nbconvert_exporter": "python",
   "pygments_lexer": "ipython3",
   "version": "3.6.1"
  }
 },
 "nbformat": 4,
 "nbformat_minor": 1
}
