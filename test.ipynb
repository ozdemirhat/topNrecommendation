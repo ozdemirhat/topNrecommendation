{
 "cells": [
  {
   "cell_type": "markdown",
   "metadata": {},
   "source": [
    "# An ensemble method for top-N recommendations from the SVD"
   ]
  },
  {
   "cell_type": "markdown",
   "metadata": {},
   "source": [
    "## SVD"
   ]
  },
  {
   "cell_type": "code",
   "execution_count": null,
   "metadata": {
    "collapsed": true
   },
   "outputs": [],
   "source": [
    "%load_ext autotime"
   ]
  },
  {
   "cell_type": "code",
   "execution_count": null,
   "metadata": {},
   "outputs": [],
   "source": [
    "import pandas as pd\n",
    "import numpy as np\n",
    "import scipy.sparse as sp\n",
    "from scipy.sparse.linalg import svds\n",
    "import pickle\n",
    "import copy \n",
    "import random\n",
    "import time"
   ]
  },
  {
   "cell_type": "code",
   "execution_count": null,
   "metadata": {},
   "outputs": [],
   "source": [
    "# read training dataset and available item data\n",
    "data_file = pd.read_table('data/training.csv', sep = ',', header=None, engine='python')\n",
    "print(\"Training data shape :\", data_file.shape)\n",
    "movie_file = pd.read_table('ml-1m/movies.dat', sep = '::', header=None, engine='python')\n",
    "print(\"Available movie data shape :\", movie_file.shape)"
   ]
  },
  {
   "cell_type": "code",
   "execution_count": null,
   "metadata": {},
   "outputs": [],
   "source": [
    "# get user and item list from imported datasets\n",
    "# maps index to real IDs\n",
    "users = np.unique(data_file[0])\n",
    "movies = np.unique(movie_file[0])\n",
    "\n",
    "#store number of users and items\n",
    "number_of_rows = len(users)\n",
    "number_of_columns = len(movies)\n",
    "print(\"Number of users :\", number_of_rows)\n",
    "print(\"Number of items :\", number_of_columns)\n",
    "\n",
    "# map real IDs to indices using dictionary\n",
    "movie_indices, user_indices = {}, {}\n",
    "for i in range(len(movies)):\n",
    "    movie_indices[movies[i]] = i\n",
    "for i in range(len(users)):\n",
    "    user_indices[users[i]] = i"
   ]
  },
  {
   "cell_type": "code",
   "execution_count": null,
   "metadata": {},
   "outputs": [],
   "source": [
    "# create sparse matrix\n",
    "# user on row axis and items on column axis \n",
    "# matching rating values on the matrix cells\n",
    "V = sp.lil_matrix((number_of_rows, number_of_columns))\n",
    "for line in data_file.values:\n",
    "    u, i , r , t = map(int,line)\n",
    "    V[user_indices[u], movie_indices[i]] = r\n",
    "print(\"Ratings matrix shape :\", V.shape)"
   ]
  },
  {
   "cell_type": "code",
   "execution_count": null,
   "metadata": {},
   "outputs": [],
   "source": [
    "# calculate user and item factors from Singular Value Decomposition\n",
    "# this might take some time\n",
    "u,s, vt = svds(V, k = 32)\n",
    "print(\"User factors shape :\", u.shape)\n",
    "print(\"Item factors shape :\", vt.shape)"
   ]
  },
  {
   "cell_type": "code",
   "execution_count": null,
   "metadata": {},
   "outputs": [],
   "source": [
    "# map factors into diagonal matrix\n",
    "s_diag_matrix = np.zeros((s.shape[0], s.shape[0]))\n",
    "for i in range(s.shape[0]):\n",
    "    s_diag_matrix[i,i] = s[i]"
   ]
  },
  {
   "cell_type": "code",
   "execution_count": null,
   "metadata": {},
   "outputs": [],
   "source": [
    "# count negativity of user factors\n",
    "negcounter = 0\n",
    "poscounter = 0\n",
    "for i in range(0,s.size):\n",
    "    for factor in u[:,i]:\n",
    "        if factor > 0:\n",
    "            poscounter = poscounter + 1\n",
    "        else:\n",
    "            negcounter = negcounter + 1\n",
    "print(\"Negative user factors :\", negcounter)\n",
    "print(\"Positive user factors :\" ,poscounter)"
   ]
  },
  {
   "cell_type": "code",
   "execution_count": null,
   "metadata": {},
   "outputs": [],
   "source": [
    "# count negativity of item factors\n",
    "negcounter = 0\n",
    "poscounter = 0\n",
    "for i in range(0,s.size):\n",
    "    for factor in vt[i,:]:\n",
    "        if factor > 0:\n",
    "            poscounter = poscounter + 1\n",
    "        else:\n",
    "            negcounter = negcounter + 1\n",
    "print(\"Negative item factors :\", negcounter)\n",
    "print(\"Positive item factors :\" ,poscounter)"
   ]
  },
  {
   "cell_type": "code",
   "execution_count": null,
   "metadata": {},
   "outputs": [],
   "source": [
    "# calculate SVD recommendation results for computePrecision\n",
    "X_lr = np.dot(np.dot(u, s_diag_matrix), vt)"
   ]
  },
  {
   "cell_type": "markdown",
   "metadata": {},
   "source": [
    "##  Model for Top-N Recommendations"
   ]
  },
  {
   "cell_type": "code",
   "execution_count": null,
   "metadata": {},
   "outputs": [],
   "source": [
    "# Node class declaration\n",
    "class Node:\n",
    "    def __init__(self,fsize):\n",
    "        self.itemFactors = np.empty(shape = (fsize,0))\n",
    "        self.userFactors = np.empty(shape = (fsize,0))\n",
    "        self.itemList = []\n",
    "        self.userList = []\n",
    "        self.factor = None\n",
    "        self.factors = []\n",
    "        self.score = 0\n",
    "        self.left = None\n",
    "        self.right = None"
   ]
  },
  {
   "cell_type": "code",
   "execution_count": null,
   "metadata": {},
   "outputs": [],
   "source": [
    "# fill user and item list on Node object with all available users and items\n",
    "def fillLists(V):\n",
    "    for user in user_indices:\n",
    "        V.userList.append(user)\n",
    "    for item in movie_indices:\n",
    "        V.itemList.append(item)"
   ]
  },
  {
   "cell_type": "code",
   "execution_count": null,
   "metadata": {},
   "outputs": [],
   "source": [
    "# initiate a full Node object with all available initial data\n",
    "def restartV():\n",
    "    V = Node(s.size)\n",
    "    V.itemFactors = vt\n",
    "    V.userFactors = u\n",
    "    fillLists(V)\n",
    "    factors = []\n",
    "    factors.extend(range(0,s.size))\n",
    "    V.factors = factors\n",
    "    return V"
   ]
  },
  {
   "cell_type": "code",
   "execution_count": null,
   "metadata": {},
   "outputs": [],
   "source": [
    "# check if Node object is a leaf\n",
    "def isLeaf(node):\n",
    "    if len(node.itemFactors.shape) < 2:\n",
    "        return True\n",
    "    elif node.itemFactors.shape[1] < 300:\n",
    "        return True\n",
    "    elif node.factor == None:\n",
    "        return True\n",
    "    return False"
   ]
  },
  {
   "cell_type": "code",
   "execution_count": null,
   "metadata": {},
   "outputs": [],
   "source": [
    "# check if the Node object is empty on factors\n",
    "def isEmpty(node):\n",
    "    empt = Node(len(node.factors))\n",
    "    if np.array_equal(node.itemFactors, empt.itemFactors):\n",
    "        return True\n",
    "    if np.array_equal(node.userFactors, empt.userFactors):\n",
    "        return True\n",
    "    return False"
   ]
  },
  {
   "cell_type": "code",
   "execution_count": null,
   "metadata": {},
   "outputs": [],
   "source": [
    "# prints a Node object with its variables\n",
    "def printNode(node):\n",
    "    print(\"itemFactors shape:\") \n",
    "    print(node.itemFactors.shape)\n",
    "    print(\"userFactors shape:\")\n",
    "    print(node.userFactors.shape)\n",
    "    print(\"factor :\")\n",
    "    print(node.factor)\n",
    "    print(\"score :\")\n",
    "    print(node.score)\n",
    "    print(\"left :\")\n",
    "    print(node.left)\n",
    "    print(\"right :\")\n",
    "    print(node.right)"
   ]
  },
  {
   "cell_type": "code",
   "execution_count": null,
   "metadata": {},
   "outputs": [],
   "source": [
    "# print tree structure using printNode function on left and right nodes\n",
    "def printTree(node):\n",
    "    printNode(node)\n",
    "    if (node.left != None):\n",
    "        print(\"LEFT :\")\n",
    "        printTree(node.left)\n",
    "    if (node.right != None):\n",
    "        print(\"RIGHT :\")\n",
    "        printTree(node.right)"
   ]
  },
  {
   "cell_type": "code",
   "execution_count": null,
   "metadata": {},
   "outputs": [],
   "source": [
    "# counts leaves on a tree\n",
    "def countLeaves(node):\n",
    "    count = 0\n",
    "    if (node.left != None):\n",
    "        if isLeaf(node.left):\n",
    "            count += 1\n",
    "        else:\n",
    "            count += countLeaves(node.left)\n",
    "    else:\n",
    "        print(\"ERROR: countLeaves left\", node.itemFactors.shape[1])\n",
    "    if (node.right != None):\n",
    "        if isLeaf(node.right):\n",
    "            count += 1\n",
    "        else:\n",
    "            count += countLeaves(node.right)\n",
    "    else:\n",
    "        print(\"ERROR countLeaves right\", node.itemFactors.shape[1])\n",
    "    return count"
   ]
  },
  {
   "cell_type": "code",
   "execution_count": null,
   "metadata": {},
   "outputs": [],
   "source": [
    "V = restartV()"
   ]
  },
  {
   "cell_type": "code",
   "execution_count": null,
   "metadata": {},
   "outputs": [],
   "source": [
    "V.itemFactors.shape"
   ]
  },
  {
   "cell_type": "code",
   "execution_count": null,
   "metadata": {},
   "outputs": [],
   "source": [
    "V.userFactors.shape"
   ]
  },
  {
   "cell_type": "code",
   "execution_count": null,
   "metadata": {},
   "outputs": [],
   "source": [
    "# returns top N possible recommendation values\n",
    "def findTopN(matrix, N):\n",
    "    newMatrix = matrix.argsort(axis = 1)\n",
    "    newMatrix = np.fliplr(newMatrix)\n",
    "    return newMatrix[:,:N] "
   ]
  },
  {
   "cell_type": "code",
   "execution_count": null,
   "metadata": {},
   "outputs": [],
   "source": [
    "# number of recommendations to provide\n",
    "precisionAt = 5\n",
    "\n",
    "# top N items from SVD recommender system\n",
    "mx = findTopN(X_lr, precisionAt)\n",
    "\n",
    "# calculates score of Node object from its children split\n",
    "def computePrecision(node):\n",
    "    # diagonal node factors matrix\n",
    "    diag_matrix = np.zeros((len(node.factors), len(node.factors)))\n",
    "    for i in range(len(node.factors)):\n",
    "        diag_matrix[i,i] = s_diag_matrix[node.factors,node.factors][i]\n",
    "    \n",
    "    # dot product of user factors, diagonal factors matrix and item factors on shild nodes\n",
    "    relevantRight = np.dot(np.dot(node.right.userFactors,diag_matrix), node.right.itemFactors)\n",
    "    relevantLeft = np.dot(np.dot(node.left.userFactors,diag_matrix), node.left.itemFactors)\n",
    "    \n",
    "    # top N results from dot product calculation\n",
    "    topRight = findTopN(relevantRight, precisionAt)\n",
    "    topLeft = findTopN(relevantLeft, precisionAt)\n",
    "    \n",
    "    # counters for precision calculation types\n",
    "    samePlace = 0\n",
    "    inTopN = 0\n",
    "    for u in range(len(node.left.userList)):\n",
    "        for i in range(precisionAt):\n",
    "            ares = movie_indices[node.left.itemList[topLeft[u,:][i]]]\n",
    "            amx = mx[user_indices[node.left.userList[u]],:]\n",
    "            if (ares == amx[i]):\n",
    "                samePlace += 1\n",
    "            if ares in amx:\n",
    "                inTopN += 1\n",
    "    for u in range(len(node.right.userList)):\n",
    "        for i in range(precisionAt):\n",
    "            ares = movie_indices[node.right.itemList[topRight[u,:][i]]]\n",
    "            amx = mx[user_indices[node.right.userList[u]],:]\n",
    "            if (ares == amx[i]):\n",
    "                samePlace += 1\n",
    "            if ares in amx:\n",
    "                inTopN += 1\n",
    "    #print(\"Recommendations found on exact order :\", samePlace)\n",
    "    #print(\"Recommendations found present in top N list :\", inTopN)\n",
    "    \n",
    "    # calculate score by recommendations present in top N\n",
    "    score = float(inTopN)/(len(node.userList)*precisionAt)\n",
    "    \n",
    "    #calculate score by recommendation on same order\n",
    "    #score = float(samePlace)/(len(node.userList)*precisionAt)\n",
    "    \n",
    "    print(\"Score :\",score)\n",
    "    return score\n",
    "    "
   ]
  },
  {
   "cell_type": "code",
   "execution_count": null,
   "metadata": {},
   "outputs": [],
   "source": [
    "# splits a Node into right and left Node objects\n",
    "def splitNode(node, factor):\n",
    "    factorIndex = node.factors.index(factor)\n",
    "    \n",
    "    # initiate left and right Node objects\n",
    "    node.left = Node(len(node.factors))\n",
    "    node.right = Node(len(node.factors))\n",
    "    \n",
    "    # assigns partial factors into children\n",
    "    node.left.factors = node.factors\n",
    "    node.right.factors = node.factors\n",
    "        \n",
    "    node.right.userFactors = np.transpose(node.right.userFactors)\n",
    "    node.left.userFactors = np.transpose(node.left.userFactors)\n",
    "    node.right.itemFactors = np.transpose(node.right.itemFactors)\n",
    "    node.left.itemFactors = np.transpose(node.left.itemFactors)\n",
    "    \n",
    "    # flag and counter for left and right assigned factors\n",
    "    left = 0\n",
    "    right = 0\n",
    "    \n",
    "    if not isEmpty(node):\n",
    "        for i in range(node.itemFactors.shape[1]):\n",
    "            # factor is positive\n",
    "            if (node.itemFactors[:, i][factorIndex] >= 0 ):\n",
    "                if (left == 0):\n",
    "                    # initiate item factors of left child\n",
    "                    node.left.itemFactors = node.itemFactors[:, i]\n",
    "                else:\n",
    "                    # append item factors of left child\n",
    "                    node.left.itemFactors = np.vstack((node.left.itemFactors, node.itemFactors[:, i]))\n",
    "                # append item list of left child\n",
    "                node.left.itemList.append(node.itemList[i])\n",
    "                left += 1\n",
    "            # factor is negative\n",
    "            else:\n",
    "                if (right == 0):\n",
    "                    # initiate item factors of right child\n",
    "                    node.right.itemFactors = node.itemFactors[:, i]\n",
    "                else:\n",
    "                    # append item factors of right child\n",
    "                    node.right.itemFactors =np.vstack((node.right.itemFactors, node.itemFactors[:, i]))\n",
    "                # append item list of right child\n",
    "                node.right.itemList.append(node.itemList[i])\n",
    "                right += 1\n",
    "        node.left.itemFactors = np.transpose(node.left.itemFactors)\n",
    "        node.right.itemFactors = np.transpose(node.right.itemFactors)\n",
    "    else:\n",
    "        print(\"ERROR: itemFactors not available\")\n",
    "        \n",
    "    # flag and counter for left and right assigned factors\n",
    "    left = 0\n",
    "    right = 0\n",
    "    if not isEmpty(node):\n",
    "        for i in range(node.userFactors.shape[0]):\n",
    "            # factor is positive\n",
    "            if (node.userFactors[i, :][factorIndex] >= 0 ):\n",
    "                if (left == 0):\n",
    "                    # initiate user factors of left child\n",
    "                    node.left.userFactors = node.userFactors[i, :]\n",
    "                else:\n",
    "                    # append user factors of left child\n",
    "                    node.left.userFactors = np.vstack((node.left.userFactors, node.userFactors[i, :]))\n",
    "                # append user list of left child\n",
    "                node.left.userList.append(node.userList[i])\n",
    "                left += 1\n",
    "            # factor is negative\n",
    "            else:\n",
    "                if (right == 0):\n",
    "                    # initiate user factors of right child\n",
    "                    node.right.userFactors = node.userFactors[i, :]\n",
    "                else:\n",
    "                    # append user factors of right child\n",
    "                    node.right.userFactors = np.vstack((node.right.userFactors, node.userFactors[i, :]))\n",
    "                # append user list of right child\n",
    "                node.right.userList.append(node.userList[i])\n",
    "                right += 1\n",
    "    else:\n",
    "        print(\"ERROR: userFactors not available\")\n",
    "        \n",
    "    # calls computePrecision to calculate score for selected factor split\n",
    "    node.score =  computePrecision(node)"
   ]
  },
  {
   "cell_type": "code",
   "execution_count": null,
   "metadata": {},
   "outputs": [],
   "source": [
    "# builds tree with given partial factors and the root\n",
    "def buildTree(node, factors):\n",
    "    print(\"Partial factor list :\", factors)\n",
    "    # TODO : user yoksa bolunmeyi durdur\n",
    "    if (len(node.itemFactors.shape) > 1 and node.itemFactors.shape[1] <= 300):\n",
    "        print(\"Threshold value is reached\")\n",
    "        return node\n",
    "    elif (len(node.itemFactors.shape) <= 1):\n",
    "        print('one item factor')\n",
    "        return node\n",
    "    elif (node.itemFactors.shape[1] == 0):\n",
    "        print('no item factor')\n",
    "        return node\n",
    "    winner = Node(len(node.factors))\n",
    "    if not factors:\n",
    "        print('factors empty')\n",
    "        return node\n",
    "    for factor in factors:\n",
    "        node.factor = factor\n",
    "        splitNode(node,factor)\n",
    "        if (node.score >= winner.score):\n",
    "            winner = copy.deepcopy(node) \n",
    "    #print(\"Winner split score :\", winner.score)\n",
    "    #print(\"Winner split factor :\", winner.factor)\n",
    "    \n",
    "    # remove winner factor from partial factor list\n",
    "    factors.remove(winner.factor)\n",
    "    \n",
    "    # assign winner factor to the root\n",
    "    node.factor = winner.factor\n",
    "    \n",
    "    # partial factor lists for subtrees\n",
    "    lfactors = list(factors)\n",
    "    rfactors = list(factors)\n",
    "    \n",
    "    # build subtrees with roots of left and right children nodes\n",
    "    node.left = buildTree(winner.left, lfactors)\n",
    "    node.right = buildTree(winner.right, rfactors)\n",
    "    return node\n",
    "    "
   ]
  },
  {
   "cell_type": "code",
   "execution_count": null,
   "metadata": {},
   "outputs": [],
   "source": [
    "# returns list of partial factor groups\n",
    "def getFactorGroups(size, p, a):\n",
    "    groups = []\n",
    "    for i in range(0,a):\n",
    "        counterList = np.zeros(len(factors))\n",
    "        for c in range(0,int(1/p)):\n",
    "            group = []\n",
    "            while (len(group) < size * p):\n",
    "                # list of available factors for the group\n",
    "                available = []\n",
    "                for k in range(len(counterList)):\n",
    "                    if (counterList[k] < 1 and k not in group):\n",
    "                        available.append(k)\n",
    "                # get a random factor from available factors\n",
    "                factor = available[random.randint(0, len(available)-1)]\n",
    "                counterList[factor] = counterList[factor] + 1 \n",
    "                group.append(factor)\n",
    "                \n",
    "            # sort factor group ascending\n",
    "            group.sort()\n",
    "            \n",
    "            # append group to factor groups list\n",
    "            groups.append(group)\n",
    "    return groups\n",
    "            "
   ]
  },
  {
   "cell_type": "code",
   "execution_count": null,
   "metadata": {},
   "outputs": [],
   "source": [
    "# build forest with given parameters\n",
    "def buildForest(factors, p, a, sl):\n",
    "    # initiate empty list for trees in the forest\n",
    "    forest = []\n",
    "    \n",
    "    # get randomized factor groups for each tree\n",
    "    groups = getFactorGroups(len(factors), p, a)\n",
    "    \n",
    "    # generate a tree for each factor group\n",
    "    for group in groups:\n",
    "        print(group)\n",
    "        V = Node(len(group))\n",
    "        V.itemFactors = vt[group,:]\n",
    "        V.userFactors = u[:,group]\n",
    "        fillLists(V)\n",
    "        V.factors = group\n",
    "        buildTree(V,group)\n",
    "        forest.append(V)\n",
    "    return forest"
   ]
  },
  {
   "cell_type": "code",
   "execution_count": null,
   "metadata": {},
   "outputs": [],
   "source": [
    "# build a single tree or a forest\n",
    "singleTree = True\n",
    "\n",
    "# initiate list of factor indices\n",
    "factors = []\n",
    "if singleTree:\n",
    "    V = restartV()\n",
    "    factors.extend(range(0,s.size))\n",
    "    #forest.append(buildTree(V,factors))\n",
    "    forest = [buildTree(V,factors)]\n",
    "else:\n",
    "    factors.extend(range(0,s.size))\n",
    "    forest = buildForest(factors, 0.5, 3, 300)"
   ]
  },
  {
   "cell_type": "code",
   "execution_count": null,
   "metadata": {},
   "outputs": [],
   "source": [
    "print(\"Number of trees in the forest :\", len(forest))\n",
    "for i in range(len(forest)):\n",
    "    node = forest[i]\n",
    "    print(\"Number of leaves on Tree \" + str(i + 1) + \" :\" , countLeaves(node))"
   ]
  },
  {
   "cell_type": "code",
   "execution_count": null,
   "metadata": {},
   "outputs": [],
   "source": [
    "# print first tree in the forest\n",
    "printTree(forest[0])"
   ]
  },
  {
   "cell_type": "markdown",
   "metadata": {},
   "source": [
    "# # Testing Model"
   ]
  },
  {
   "cell_type": "code",
   "execution_count": null,
   "metadata": {},
   "outputs": [],
   "source": [
    "# read test data file\n",
    "test_file = pd.read_table('data/test.csv', sep = ',', header=None, engine='python')\n",
    "print(\"Test dataset shape :\", test_file.shape)"
   ]
  },
  {
   "cell_type": "code",
   "execution_count": null,
   "metadata": {},
   "outputs": [],
   "source": [
    "# user list from imported test data\n",
    "test_users = np.unique(test_file[0])\n",
    "\n",
    "# number of users on the test dataset\n",
    "test_number_of_rows = len(test_users)\n",
    "print(\"Number of test data users :\", test_number_of_rows)\n",
    "\n",
    "# map real user IDs to indices using dictionary\n",
    "test_user_indices = {}\n",
    "for i in range(len(test_users)):\n",
    "    test_user_indices[test_users[i]] = i"
   ]
  },
  {
   "cell_type": "code",
   "execution_count": null,
   "metadata": {},
   "outputs": [],
   "source": [
    "# create sparse matrix\n",
    "# user on row axis and items on column axis \n",
    "# matching rating values on the matrix cells\n",
    "test_V = sp.lil_matrix((test_number_of_rows, number_of_columns))\n",
    "for line in test_file.values:\n",
    "    test_u, test_i , test_r , test_time = map(int,line)\n",
    "    if test_i in movie_indices:\n",
    "        test_V[test_user_indices[test_u], movie_indices[test_i]] = test_r\n",
    "print(\"Test ratings matrix shape :\", test_V.shape)"
   ]
  },
  {
   "cell_type": "code",
   "execution_count": null,
   "metadata": {},
   "outputs": [],
   "source": [
    "# returns list of recommendation for a given user\n",
    "def recommend(index):\n",
    "    # read user factors from offline data\n",
    "    userFactors = u[index]\n",
    "    \n",
    "    # initiate empty top recommendations list\n",
    "    topList = []\n",
    "    \n",
    "    # iterate through each tree in the forest\n",
    "    for tree in forest:\n",
    "        node = tree\n",
    "        # find the corresponding leaf for the user\n",
    "        while not isLeaf(node):\n",
    "            if userFactors[node.factor] >= 0:\n",
    "                if not isEmpty(node.left):\n",
    "                    node = node.left\n",
    "                else:\n",
    "                    break\n",
    "            else:\n",
    "                if not isEmpty(node.right):\n",
    "                    node = node.right\n",
    "                else:\n",
    "                    break\n",
    "        # diagonal factor matrix for the node\n",
    "        test_diag_matrix = np.zeros((len(node.factors), len(node.factors)))\n",
    "        for i in range(len(node.factors)):\n",
    "            test_diag_matrix[i,i] = s_diag_matrix[node.factors,node.factors][i]\n",
    "            \n",
    "        # dot product to find relevance values\n",
    "        relevant = np.dot(np.dot(userFactors[node.factors],test_diag_matrix), node.itemFactors)\n",
    "        \n",
    "        # sorted item indices for recommendations\n",
    "        indexMatrix = relevant.argsort()[::-1]\n",
    "        \n",
    "        # watched movie ratings for the user to calculate testing accuracy\n",
    "        watched = movies[np.nonzero(test_V[index,:])[1]]\n",
    "        for i in indexMatrix:\n",
    "            if node.itemList[i] in watched:\n",
    "                # append item ID and relevance value into top list\n",
    "                topList.append((node.itemList[i],relevant[i]))\n",
    "    # sort toplist by relevance values\n",
    "    topList.sort(key=lambda x: x[1], reverse=True)\n",
    "    # sorted recommendation list with unique items\n",
    "    result = []\n",
    "    for item in topList:\n",
    "        if not item[0] in result:\n",
    "            result.append(item[0])\n",
    "    return result"
   ]
  },
  {
   "cell_type": "code",
   "execution_count": null,
   "metadata": {},
   "outputs": [],
   "source": [
    "# computes user recommendation accuraty by top N recommendations\n",
    "def computeUserAccuracy(index):\n",
    "    # get recommendations\n",
    "    computedMovies = recommend(index)\n",
    "    \n",
    "    # return 0 accuracy if recommmendations is empty\n",
    "    if not computedMovies:\n",
    "        return 0\n",
    "    \n",
    "    # sum of weighted average\n",
    "    weightedSum = 0\n",
    "    \n",
    "    # available recommendations or N\n",
    "    counter = 0\n",
    "    if precisionAt > len(computedMovies):\n",
    "        counter = len(computedMovies) \n",
    "    else:\n",
    "        counter = precisionAt \n",
    "\n",
    "    # sum of weights\n",
    "    sumWeight = (counter * (counter +1)) /2\n",
    "    \n",
    "    # iterate through recommendations\n",
    "    for recommendation in computedMovies:\n",
    "        if (counter != 0):\n",
    "            # calculate weighted value\n",
    "            weightedSum = weightedSum + test_V[index, movie_indices[recommendation]] * counter\n",
    "            counter = counter - 1 \n",
    "            \n",
    "    #return weighted average\n",
    "    return float(weightedSum / (sumWeight*5))"
   ]
  },
  {
   "cell_type": "code",
   "execution_count": null,
   "metadata": {},
   "outputs": [],
   "source": [
    "# calculates average user accuracy of system\n",
    "def computeAccuracy():\n",
    "    # counter for empty recommendations\n",
    "    empty = 0\n",
    "    # sum of user accuracies\n",
    "    sumUserAccuracy = 0.0\n",
    "    # iterate through every user\n",
    "    for user in range(0,test_V.shape[0]):\n",
    "        # get user accuracy\n",
    "        userAccuracy = computeUserAccuracy(user)\n",
    "        # empty recommendations\n",
    "        if (userAccuracy == 0):\n",
    "            empty = empty + 1\n",
    "        # add user accuracy to sum of user accuracies\n",
    "        sumUserAccuracy = sumUserAccuracy + userAccuracy\n",
    "        # print user accuracy for investigation\n",
    "        print(userAccuracy)\n",
    "    # print number of empty recommendations\n",
    "    print(\"Number of users with empty recommendations ,\", empty)\n",
    "    \n",
    "    # average user accuracy\n",
    "    accuracy = float(sumUserAccuracy / (test_V.shape[0] - empty))\n",
    "    \n",
    "    # print average user accuracy of system\n",
    "    print(\"Average user accuracy ,\", accuracy)\n",
    "    \n",
    "    return accuracy"
   ]
  },
  {
   "cell_type": "code",
   "execution_count": null,
   "metadata": {
    "scrolled": true
   },
   "outputs": [],
   "source": [
    "acc = computeAccuracy()"
   ]
  },
  {
   "cell_type": "code",
   "execution_count": null,
   "metadata": {},
   "outputs": [],
   "source": [
    "computeUserAccuracy(0)"
   ]
  },
  {
   "cell_type": "code",
   "execution_count": null,
   "metadata": {},
   "outputs": [],
   "source": [
    "recommend(0)"
   ]
  },
  {
   "cell_type": "code",
   "execution_count": null,
   "metadata": {
    "collapsed": true
   },
   "outputs": [],
   "source": []
  }
 ],
 "metadata": {
  "anaconda-cloud": {},
  "kernelspec": {
   "display_name": "Python 3",
   "language": "python",
   "name": "python3"
  },
  "language_info": {
   "codemirror_mode": {
    "name": "ipython",
    "version": 3
   },
   "file_extension": ".py",
   "mimetype": "text/x-python",
   "name": "python",
   "nbconvert_exporter": "python",
   "pygments_lexer": "ipython3",
   "version": "3.6.1"
  }
 },
 "nbformat": 4,
 "nbformat_minor": 1
}
