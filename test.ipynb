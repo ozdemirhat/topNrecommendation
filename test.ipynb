{
 "cells": [
  {
   "cell_type": "code",
   "execution_count": 21,
   "metadata": {
    "collapsed": true
   },
   "outputs": [],
   "source": [
    "import pandas as pd\n",
    "import numpy as np\n",
    "import scipy.sparse as sp\n",
    "from scipy.sparse.linalg import svds\n",
    "import pickle"
   ]
  },
  {
   "cell_type": "code",
   "execution_count": 22,
   "metadata": {
    "collapsed": true
   },
   "outputs": [],
   "source": [
    "data_file = pd.read_table('ml-1m/ratings.dat', sep = '::', header=None, engine='python')"
   ]
  },
  {
   "cell_type": "code",
   "execution_count": 23,
   "metadata": {},
   "outputs": [
    {
     "data": {
      "text/plain": [
       "(1000209, 4)"
      ]
     },
     "execution_count": 23,
     "metadata": {},
     "output_type": "execute_result"
    }
   ],
   "source": [
    "data_file.describe\n",
    "data_file.shape"
   ]
  },
  {
   "cell_type": "code",
   "execution_count": 24,
   "metadata": {
    "collapsed": true
   },
   "outputs": [],
   "source": [
    "users = np.unique(data_file[0])\n",
    "movies = np.unique(data_file[1])\n",
    " \n",
    "number_of_rows = len(users)\n",
    "number_of_columns = len(movies)\n",
    "\n",
    "movie_indices, user_indices = {}, {}\n",
    " \n",
    "for i in range(len(movies)):\n",
    "    movie_indices[movies[i]] = i\n",
    "    \n",
    "for i in range(len(users)):\n",
    "    user_indices[users[i]] = i"
   ]
  },
  {
   "cell_type": "code",
   "execution_count": 25,
   "metadata": {},
   "outputs": [
    {
     "data": {
      "text/plain": [
       "array([   1,    2,    3, ..., 6038, 6039, 6040])"
      ]
     },
     "execution_count": 25,
     "metadata": {},
     "output_type": "execute_result"
    }
   ],
   "source": [
    "np.unique(data_file[0])"
   ]
  },
  {
   "cell_type": "code",
   "execution_count": 26,
   "metadata": {
    "collapsed": true
   },
   "outputs": [],
   "source": [
    "#scipy sparse matrix to store the 1M matrix\n",
    "V = sp.lil_matrix((number_of_rows, number_of_columns))\n",
    "\n",
    "#adds data into the sparse matrix\n",
    "for line in data_file.values:\n",
    "    u, i , r , gona = map(int,line)\n",
    "    V[user_indices[u], movie_indices[i]] = r"
   ]
  },
  {
   "cell_type": "code",
   "execution_count": 27,
   "metadata": {
    "collapsed": true
   },
   "outputs": [],
   "source": [
    "#as these operations consume a lot of time, it's better to save processed data \n",
    "with open('movielens_1M.pickle', 'wb') as handle:\n",
    "    pickle.dump(V, handle)"
   ]
  },
  {
   "cell_type": "code",
   "execution_count": 28,
   "metadata": {},
   "outputs": [
    {
     "data": {
      "text/plain": [
       "(6040, 3706)"
      ]
     },
     "execution_count": 28,
     "metadata": {},
     "output_type": "execute_result"
    }
   ],
   "source": [
    "V.shape"
   ]
  },
  {
   "cell_type": "code",
   "execution_count": 41,
   "metadata": {},
   "outputs": [
    {
     "data": {
      "text/plain": [
       "array([[ 5.,  0.,  0., ...,  0.,  0.,  0.],\n",
       "       [ 0.,  0.,  0., ...,  0.,  0.,  0.],\n",
       "       [ 0.,  0.,  0., ...,  0.,  0.,  0.],\n",
       "       ..., \n",
       "       [ 0.,  0.,  0., ...,  0.,  0.,  0.],\n",
       "       [ 0.,  0.,  0., ...,  0.,  0.,  0.],\n",
       "       [ 3.,  0.,  0., ...,  0.,  0.,  0.]])"
      ]
     },
     "execution_count": 41,
     "metadata": {},
     "output_type": "execute_result"
    }
   ],
   "source": [
    "V.toarray()"
   ]
  },
  {
   "cell_type": "code",
   "execution_count": 42,
   "metadata": {
    "collapsed": true
   },
   "outputs": [],
   "source": [
    "#as these operations consume a lot of time, it's better to save processed data \n",
    "#gets SVD components from 10M matrix\n",
    "u,s, vt = svds(V, k = 32)\n",
    " \n",
    "with open('movielens_1M_svd_u.pickle', 'wb') as handle:\n",
    "    pickle.dump(u, handle)\n",
    "with open('movielens_1M_svd_s.pickle', 'wb') as handle:\n",
    "    pickle.dump(s, handle)\n",
    "with open('movielens_1M_svd_vt.pickle', 'wb') as handle:\n",
    "    pickle.dump(vt, handle)"
   ]
  },
  {
   "cell_type": "code",
   "execution_count": 9,
   "metadata": {},
   "outputs": [
    {
     "data": {
      "text/plain": [
       "(6040, 32)"
      ]
     },
     "execution_count": 9,
     "metadata": {},
     "output_type": "execute_result"
    }
   ],
   "source": [
    "u.shape"
   ]
  },
  {
   "cell_type": "code",
   "execution_count": 10,
   "metadata": {},
   "outputs": [
    {
     "data": {
      "text/plain": [
       "array([[ 0.00410462,  0.00412278,  0.00573711, ...,  0.00267141,\n",
       "        -0.00164551,  0.00471786],\n",
       "       [-0.0069305 ,  0.00495312,  0.00630195, ...,  0.00038215,\n",
       "         0.00269782,  0.00928856],\n",
       "       [-0.02099482,  0.00757615, -0.00446269, ..., -0.00334366,\n",
       "         0.00334292,  0.00501018],\n",
       "       ..., \n",
       "       [ 0.00254681,  0.00562312, -0.00725292, ..., -0.00011879,\n",
       "        -0.00181339,  0.00138885],\n",
       "       [ 0.00730304,  0.00601646,  0.00030571, ..., -0.01071225,\n",
       "        -0.0187647 ,  0.00700793],\n",
       "       [ 0.00687984, -0.02834141, -0.0201742 , ..., -0.00304316,\n",
       "        -0.04080244,  0.01896102]])"
      ]
     },
     "execution_count": 10,
     "metadata": {},
     "output_type": "execute_result"
    }
   ],
   "source": [
    "u"
   ]
  },
  {
   "cell_type": "code",
   "execution_count": 11,
   "metadata": {},
   "outputs": [
    {
     "data": {
      "text/plain": [
       "(32,)"
      ]
     },
     "execution_count": 11,
     "metadata": {},
     "output_type": "execute_result"
    }
   ],
   "source": [
    "s.shape"
   ]
  },
  {
   "cell_type": "code",
   "execution_count": 44,
   "metadata": {},
   "outputs": [
    {
     "data": {
      "text/plain": [
       "array([  170.39056208,   173.4545534 ,   177.40814501,   180.00054896,\n",
       "         182.54076131,   184.35736998,   187.23251225,   192.34874592,\n",
       "         196.85673474,   199.89552804,   202.22382818,   211.99396056,\n",
       "         213.28383445,   216.29756551,   221.72978787,   231.39268055,\n",
       "         239.65266106,   245.51816079,   253.3454035 ,   256.36631123,\n",
       "         276.37005962,   289.28673298,   316.08860249,   335.46238645,\n",
       "         346.70684534,   398.74614105,   426.16540262,   444.85478082,\n",
       "         518.08422502,   574.85275997,   671.34356538,  1893.21055869])"
      ]
     },
     "execution_count": 44,
     "metadata": {},
     "output_type": "execute_result"
    }
   ],
   "source": [
    "s"
   ]
  },
  {
   "cell_type": "code",
   "execution_count": 45,
   "metadata": {},
   "outputs": [
    {
     "data": {
      "text/plain": [
       "(32, 3706)"
      ]
     },
     "execution_count": 45,
     "metadata": {},
     "output_type": "execute_result"
    }
   ],
   "source": [
    "vt.shape"
   ]
  },
  {
   "cell_type": "code",
   "execution_count": 46,
   "metadata": {},
   "outputs": [
    {
     "data": {
      "text/plain": [
       "array([[ 0.02594449, -0.01260792, -0.00431814, ...,  0.00077875,\n",
       "         0.00507803, -0.00444861],\n",
       "       [ 0.03941802, -0.00317296, -0.01265863, ...,  0.00414554,\n",
       "        -0.00361951, -0.00092356],\n",
       "       [ 0.01233547, -0.00091809, -0.03974107, ...,  0.00424986,\n",
       "         0.00469391,  0.02537816],\n",
       "       ..., \n",
       "       [-0.03016472,  0.01018907, -0.01257242, ..., -0.00178319,\n",
       "        -0.00352092, -0.02235768],\n",
       "       [ 0.02094015,  0.02979245,  0.0167039 , ..., -0.0018744 ,\n",
       "        -0.00226511, -0.00502213],\n",
       "       [-0.07013714, -0.02354382, -0.01376584, ..., -0.00261526,\n",
       "        -0.00116636, -0.01325659]])"
      ]
     },
     "execution_count": 46,
     "metadata": {},
     "output_type": "execute_result"
    }
   ],
   "source": [
    "vt"
   ]
  },
  {
   "cell_type": "code",
   "execution_count": 13,
   "metadata": {
    "collapsed": true
   },
   "outputs": [],
   "source": [
    "s_diag_matrix = np.zeros((s.shape[0], s.shape[0]))\n",
    "\n",
    "for i in range(s.shape[0]):\n",
    "    s_diag_matrix[i,i] = s[i]"
   ]
  },
  {
   "cell_type": "code",
   "execution_count": 14,
   "metadata": {
    "collapsed": true
   },
   "outputs": [],
   "source": [
    "X_lr = np.dot(np.dot(u, s_diag_matrix), vt)"
   ]
  },
  {
   "cell_type": "code",
   "execution_count": 15,
   "metadata": {},
   "outputs": [
    {
     "data": {
      "text/plain": [
       "array([[  3.46082409e+00,   3.79645341e-01,  -1.00658366e-01, ...,\n",
       "          4.54694446e-03,   8.59065574e-04,   1.26139332e-01],\n",
       "       [  1.14993182e+00,   2.98553553e-01,   2.17074964e-01, ...,\n",
       "         -2.95004384e-02,  -1.43338851e-02,  -3.66208889e-02],\n",
       "       [  1.64867269e+00,   7.20365220e-01,   1.02267102e-01, ...,\n",
       "         -1.03005964e-02,   1.66668728e-02,  -1.14509969e-01],\n",
       "       ..., \n",
       "       [  5.32095794e-01,  -2.66320882e-03,  -2.73637940e-02, ...,\n",
       "         -2.92053697e-02,  -3.05362056e-02,  -1.38650678e-01],\n",
       "       [  8.95395251e-01,  -1.20133177e-01,   6.31031568e-02, ...,\n",
       "         -3.35518359e-02,  -8.57036877e-02,  -2.74991620e-01],\n",
       "       [  2.46577408e+00,  -2.28213659e-01,  -3.05154451e-01, ...,\n",
       "          3.87987595e-02,   1.48801896e-01,   1.88615556e-01]])"
      ]
     },
     "execution_count": 15,
     "metadata": {},
     "output_type": "execute_result"
    }
   ],
   "source": [
    "X_lr"
   ]
  },
  {
   "cell_type": "code",
   "execution_count": 16,
   "metadata": {},
   "outputs": [
    {
     "data": {
      "text/plain": [
       "(6040, 3706)"
      ]
     },
     "execution_count": 16,
     "metadata": {},
     "output_type": "execute_result"
    }
   ],
   "source": [
    "X_lr.shape"
   ]
  },
  {
   "cell_type": "code",
   "execution_count": 17,
   "metadata": {},
   "outputs": [
    {
     "data": {
      "text/plain": [
       "22384240"
      ]
     },
     "execution_count": 17,
     "metadata": {},
     "output_type": "execute_result"
    }
   ],
   "source": [
    "X_lr.size"
   ]
  },
  {
   "cell_type": "code",
   "execution_count": null,
   "metadata": {},
   "outputs": [],
   "source": []
  }
 ],
 "metadata": {
  "anaconda-cloud": {},
  "kernelspec": {
   "display_name": "Python 3",
   "language": "python",
   "name": "python3"
  },
  "language_info": {
   "codemirror_mode": {
    "name": "ipython",
    "version": 3
   },
   "file_extension": ".py",
   "mimetype": "text/x-python",
   "name": "python",
   "nbconvert_exporter": "python",
   "pygments_lexer": "ipython3",
   "version": "3.5.2"
  }
 },
 "nbformat": 4,
 "nbformat_minor": 1
}
