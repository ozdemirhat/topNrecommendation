{
 "cells": [
  {
   "cell_type": "markdown",
   "metadata": {},
   "source": [
    "# An ensemble method for top-N recommendations from the SVD"
   ]
  },
  {
   "cell_type": "markdown",
   "metadata": {},
   "source": [
    "## SVD"
   ]
  },
  {
   "cell_type": "code",
   "execution_count": null,
   "metadata": {
    "collapsed": true
   },
   "outputs": [],
   "source": [
    "import pandas as pd\n",
    "import numpy as np\n",
    "import scipy.sparse as sp\n",
    "from scipy.sparse.linalg import svds\n",
    "import pickle\n",
    "import copy \n",
    "import random"
   ]
  },
  {
   "cell_type": "code",
   "execution_count": null,
   "metadata": {
    "collapsed": false
   },
   "outputs": [],
   "source": [
    "data_file = pd.read_table('data/training.csv', sep = ',', header=None, engine='python')\n",
    "data_file.shape"
   ]
  },
  {
   "cell_type": "code",
   "execution_count": null,
   "metadata": {
    "collapsed": true
   },
   "outputs": [],
   "source": [
    "#movies 3666(gercege karşılık gelen index) alıp 3952(gerçekid) döner, movie_indices 3952 alıp 3666 döner\n",
    "users = np.unique(data_file[0]) # 1(0.idex) den 6040(6039.index) a kadar\n",
    "movies = np.unique(data_file[1]) # 1(0.idex) den 3952(3666.idex) ye kadar\n",
    "\n",
    "number_of_rows = len(users) #6040\n",
    "number_of_columns = len(movies) #3667\n",
    "\n",
    "movie_indices, user_indices = {}, {}\n",
    " \n",
    "for i in range(len(movies)):\n",
    "    movie_indices[movies[i]] = i # movie_indices[3952] = 3666 x.filmin indisini verir\n",
    "    \n",
    "for i in range(len(users)):\n",
    "    user_indices[users[i]] = i # x.userın indisini verir"
   ]
  },
  {
   "cell_type": "code",
   "execution_count": null,
   "metadata": {
    "collapsed": false
   },
   "outputs": [],
   "source": [
    "V = sp.lil_matrix((number_of_rows, number_of_columns))\n",
    "for line in data_file.values:\n",
    "    u, i , r , gona = map(int,line)\n",
    "    V[user_indices[u], movie_indices[i]] = r # gerçek user ve movie idnin indexini bulup ratingi matrixteki yere atar"
   ]
  },
  {
   "cell_type": "code",
   "execution_count": null,
   "metadata": {
    "collapsed": false
   },
   "outputs": [],
   "source": [
    "print(users)\n",
    "print(user_indices[6000])\n",
    "print(movies)\n",
    "print(movie_indices[3952])\n",
    "#print (V[:3,:])"
   ]
  },
  {
   "cell_type": "code",
   "execution_count": null,
   "metadata": {
    "collapsed": false
   },
   "outputs": [],
   "source": [
    "print(movies[253])\n",
    "print(movies[20])\n",
    "print(movies[0])\n",
    "print(movies)"
   ]
  },
  {
   "cell_type": "code",
   "execution_count": null,
   "metadata": {
    "collapsed": false
   },
   "outputs": [],
   "source": [
    "u,s, vt = svds(V, k = 16)"
   ]
  },
  {
   "cell_type": "code",
   "execution_count": null,
   "metadata": {
    "collapsed": true
   },
   "outputs": [],
   "source": [
    "s_diag_matrix = np.zeros((s.shape[0], s.shape[0]))\n",
    "\n",
    "for i in range(s.shape[0]):\n",
    "    s_diag_matrix[i,i] = s[i]"
   ]
  },
  {
   "cell_type": "code",
   "execution_count": null,
   "metadata": {
    "collapsed": true
   },
   "outputs": [],
   "source": [
    "X_lr = np.dot(np.dot(u, s_diag_matrix), vt)"
   ]
  },
  {
   "cell_type": "code",
   "execution_count": null,
   "metadata": {
    "collapsed": false
   },
   "outputs": [],
   "source": [
    "negcounter = 0\n",
    "poscounter = 0\n",
    "for i in range(s.size-1,s.size):\n",
    "    for factor in vt[i,:]:\n",
    "        if factor > 0:\n",
    "            poscounter = poscounter + 1\n",
    "        else:\n",
    "            negcounter = negcounter + 1\n",
    "print(negcounter,poscounter)"
   ]
  },
  {
   "cell_type": "code",
   "execution_count": null,
   "metadata": {
    "collapsed": false
   },
   "outputs": [],
   "source": [
    "X_lr[0,2354]"
   ]
  },
  {
   "cell_type": "code",
   "execution_count": null,
   "metadata": {
    "collapsed": false
   },
   "outputs": [],
   "source": [
    "#X_lr.tofile(file = 'data/svdresults.csv', sep = \"::\")"
   ]
  },
  {
   "cell_type": "code",
   "execution_count": null,
   "metadata": {
    "collapsed": false
   },
   "outputs": [],
   "source": [
    "X_lr.shape"
   ]
  },
  {
   "cell_type": "markdown",
   "metadata": {},
   "source": [
    "## Ensemble Method for Top-N Recommendations"
   ]
  },
  {
   "cell_type": "code",
   "execution_count": null,
   "metadata": {
    "collapsed": true
   },
   "outputs": [],
   "source": [
    "class Node:\n",
    "    def __init__(self):\n",
    "        self.itemFactors = np.empty(shape = (32,0))\n",
    "        self.userFactors = np.empty(shape = (32,0))\n",
    "        self.itemList = []\n",
    "        self.userList = []\n",
    "        self.factor = None\n",
    "        self.score = 0\n",
    "        self.left = None\n",
    "        self.right = None"
   ]
  },
  {
   "cell_type": "code",
   "execution_count": null,
   "metadata": {
    "collapsed": true
   },
   "outputs": [],
   "source": [
    "def printNode(node):\n",
    "    print(\"itemFactors :\") \n",
    "    #print(node.itemFactors)\n",
    "    print(node.itemFactors.shape)\n",
    "    print(\"userFactors :\")\n",
    "    #print(node.userFactors)\n",
    "    print(node.userFactors.shape)\n",
    "    print(\"factor :\")\n",
    "    print(node.factor)\n",
    "    print(\"score :\")\n",
    "    print(node.score)\n",
    "    #print(\"left :\")\n",
    "    #print(node.left)\n",
    "    #print(\"right :\")\n",
    "    #print(node.right)\n",
    "def printTree(node):\n",
    "    printNode(node)\n",
    "    if (node.left != None):\n",
    "        print(\"LEFT :\")\n",
    "        printTree(node.left)\n",
    "    if (node.right != None):\n",
    "        print(\"RIGHT :\")\n",
    "        printTree(node.right)\n",
    "def countLeaves(node):\n",
    "    count = 0\n",
    "    if (node.left != None):\n",
    "        if (node.left.itemFactors.shape[1] <= 300):\n",
    "            count += 1\n",
    "        else:\n",
    "            count += countLeaves(node.left)\n",
    "    if (node.right != None):\n",
    "        if (node.right.itemFactors.shape[1] <= 300):\n",
    "            count += 1\n",
    "        else:\n",
    "            count += countLeaves(node.right)\n",
    "    return count"
   ]
  },
  {
   "cell_type": "code",
   "execution_count": null,
   "metadata": {
    "collapsed": false
   },
   "outputs": [],
   "source": [
    "V = Node()\n",
    "V.itemFactors = vt\n",
    "V.userFactors = u\n",
    "#for user in users:\n",
    "#    V.userList.append(user)\n",
    "#for item in movies:\n",
    "#    V.itemList.append(item)\n",
    "for user in user_indices:\n",
    "    V.userList.append(user-1)\n",
    "for item in movie_indices:\n",
    "    V.itemList.append(item-1)\n",
    "print(V.itemList[0])"
   ]
  },
  {
   "cell_type": "code",
   "execution_count": null,
   "metadata": {
    "collapsed": false
   },
   "outputs": [],
   "source": [
    "V.itemFactors.shape"
   ]
  },
  {
   "cell_type": "code",
   "execution_count": null,
   "metadata": {
    "collapsed": false
   },
   "outputs": [],
   "source": [
    "V.userFactors.shape"
   ]
  },
  {
   "cell_type": "code",
   "execution_count": null,
   "metadata": {
    "collapsed": true
   },
   "outputs": [],
   "source": [
    "def splitNode(node, factor):\n",
    "    node.left = Node()\n",
    "    node.right = Node()\n",
    "    left = 0 #flag and counter\n",
    "    right = 0\n",
    "    empt = Node()\n",
    "    if (np.array_equal(node.itemFactors, empt.itemFactors) == False):   #bos item factor girebilir mi cond dene\n",
    "    #if (len(node.itemFactors.shape) > 1):   #bos item factor girebilir mi cond dene\n",
    "        #print(node.itemFactors.shape)\n",
    "        for i in range(node.itemFactors.shape[1]):\n",
    "            #print(node.itemFactors[:, i])\n",
    "            if (node.itemFactors[:, i][factor] >= 0 ):\n",
    "                if (left == 0):\n",
    "                    node.left.itemFactors = node.itemFactors[:, i]\n",
    "                else:\n",
    "                    node.left.itemFactors = np.vstack((node.left.itemFactors, node.itemFactors[:, i]))\n",
    "                node.left.itemList.append(node.itemList[i])\n",
    "                left += 1\n",
    "            else:\n",
    "                #continue\n",
    "                if (right == 0):\n",
    "                    node.right.itemFactors = node.itemFactors[:, i]\n",
    "                else:\n",
    "                    node.right.itemFactors =np.vstack((node.right.itemFactors, node.itemFactors[:, i]))\n",
    "                node.right.itemList.append(node.itemList[i])\n",
    "                right += 1\n",
    "        node.left.itemFactors = np.transpose(node.left.itemFactors)\n",
    "        node.right.itemFactors = np.transpose(node.right.itemFactors)\n",
    "    else:\n",
    "        print('itemFactors not available')\n",
    "    left = 0\n",
    "    right = 0\n",
    "    if (np.array_equal(node.userFactors, empt.userFactors) == False):   #bos user factor girebilme ihtimali dusun\n",
    "    #if (len(node.userFactors.shape) > 1):   #bos user factor girebilme ihtimali dusun\n",
    "        #print(node.userFactors.shape)\n",
    "        for i in range(node.userFactors.shape[0]):\n",
    "            if (node.userFactors[i, :][factor] >= 0 ):\n",
    "                if (left == 0):\n",
    "                    node.left.userFactors = node.userFactors[i, :]\n",
    "                else:\n",
    "                    node.left.userFactors = np.vstack((node.left.userFactors, node.userFactors[i, :]))\n",
    "                node.left.userList.append(node.userList[i])\n",
    "                left += 1\n",
    "            else:\n",
    "                if (right == 0):\n",
    "                    node.right.userFactors = node.userFactors[i, :]\n",
    "                else:\n",
    "                    node.right.userFactors = np.vstack((node.right.userFactors, node.userFactors[i, :]))\n",
    "                node.right.userList.append(node.userList[i])\n",
    "                right += 1\n",
    "    else:\n",
    "        print('userFactors not available')\n",
    "    node.score =  computePrecision(node)"
   ]
  },
  {
   "cell_type": "code",
   "execution_count": null,
   "metadata": {
    "collapsed": true
   },
   "outputs": [],
   "source": [
    "def findTopN(matrix, N):\n",
    "    newMatrix = matrix.argsort(axis = 1)\n",
    "    newMatrix = np.fliplr(newMatrix)\n",
    "    return newMatrix[:,:N]\n",
    "    "
   ]
  },
  {
   "cell_type": "code",
   "execution_count": null,
   "metadata": {
    "collapsed": false
   },
   "outputs": [],
   "source": [
    "mx = findTopN(X_lr, 5)\n",
    "print(mx)\n",
    "print(mx.shape)\n",
    "print(mx[6039,:])"
   ]
  },
  {
   "cell_type": "code",
   "execution_count": null,
   "metadata": {
    "collapsed": false
   },
   "outputs": [],
   "source": [
    "precisionAt = 5\n",
    "def computePrecision(node):\n",
    "    relevantRight = np.dot(node.right.userFactors, node.right.itemFactors)\n",
    "    relevantLeft = np.dot(node.left.userFactors, node.left.itemFactors) \n",
    "    topRight = findTopN(relevantRight, precisionAt)\n",
    "    topLeft = findTopN(relevantLeft, precisionAt)\n",
    "    #print(topRight.shape)\n",
    "    #print(topLeft.shape)\n",
    "    \n",
    "    samePlace = 0\n",
    "    inTopN = 0\n",
    "    for u in range(len(node.left.userList)):\n",
    "        #print(u)\n",
    "        #print(node.left.userList[u])\n",
    "        for i in range(precisionAt):\n",
    "            #print(node.left.itemList[topLeft[0,:][i]])\n",
    "            if (node.left.itemList[topLeft[u,:][i]] == mx[node.left.userList[u],:][i]):\n",
    "                #print(\"ALLAH\")\n",
    "                #print(node.left.itemList[topLeft[u,:][i]])\n",
    "                #print(mx[node.left.userList[u],:])\n",
    "                samePlace += 1\n",
    "            if node.left.itemList[topLeft[u,:][i]] in mx[node.left.userList[u],:]:\n",
    "                inTopN += 1\n",
    "    for u in range(len(node.right.userList)):\n",
    "        #print(u)\n",
    "        #print(node.right.userList[u])\n",
    "        for i in range(precisionAt):\n",
    "            #print(node.right.itemList[topRight[0,:][i]])\n",
    "            if (node.right.itemList[topRight[u,:][i]] == mx[node.right.userList[u],:][i]):\n",
    "                #print(node.right.itemList[topRight[u,:][i]])\n",
    "                #print(mx[node.right.userList[u],:])\n",
    "                samePlace += 1\n",
    "            if node.right.itemList[topRight[u,:][i]] in mx[node.right.userList[u],:]:\n",
    "                inTopN += 1\n",
    "    #print(samePlace)\n",
    "    #print(inTopN)\n",
    "    ret = float(inTopN)/(len(node.userList)*precisionAt)\n",
    "    #ret = float(samePlace)/(len(node.userList)*precisionAt)\n",
    "    print(ret)\n",
    "    return ret\n",
    "    "
   ]
  },
  {
   "cell_type": "code",
   "execution_count": null,
   "metadata": {
    "collapsed": false
   },
   "outputs": [],
   "source": [
    "splitNode(V, 15)"
   ]
  },
  {
   "cell_type": "code",
   "execution_count": null,
   "metadata": {
    "collapsed": true
   },
   "outputs": [],
   "source": [
    "def buildTree(node, factors):\n",
    "    #printNode(node)\n",
    "    #print(factors)\n",
    "    empt = Node()\n",
    "    if (len(node.itemFactors.shape) > 1 and node.itemFactors.shape[1] <= 300):\n",
    "        print(\"Threshold value is reached\")\n",
    "        return node\n",
    "    elif (len(node.itemFactors.shape) <= 1):\n",
    "        print('one item factor')\n",
    "        return node\n",
    "    elif (node.itemFactors.shape[1] == 0):\n",
    "        print('no item factor')\n",
    "        return node\n",
    "    winner = Node()\n",
    "    if not factors:\n",
    "        print('factors empty')\n",
    "        return node\n",
    "    for factor in factors:\n",
    "        node.factor = factor\n",
    "        splitNode(node,factor)\n",
    "        if (node.score >= winner.score):\n",
    "            winner = copy.deepcopy(node) \n",
    "    print(winner.score)\n",
    "    print(winner.factor)\n",
    "    factors.remove(winner.factor)\n",
    "    node.factor = winner.factor\n",
    "    lfactors = list(factors)\n",
    "    rfactors = list(factors)\n",
    "    buildTree(winner.left, lfactors)\n",
    "    buildTree(winner.right, rfactors)\n",
    "    return node\n",
    "    "
   ]
  },
  {
   "cell_type": "code",
   "execution_count": null,
   "metadata": {
    "collapsed": true
   },
   "outputs": [],
   "source": [
    "def buildForest(factors, p, a, sl):\n",
    "    forest = []\n",
    "    groups = getFactorGroups(len(factors), p, a)\n",
    "    for g in groups:\n",
    "        print(g)\n",
    "        V = Node()\n",
    "        V.itemFactors = vt[group,:]\n",
    "        V.userFactors = u[:,group]\n",
    "        buildTree(V,g)\n",
    "        forest.append(V)\n",
    "    return forest"
   ]
  },
  {
   "cell_type": "code",
   "execution_count": null,
   "metadata": {
    "collapsed": false
   },
   "outputs": [],
   "source": [
    "factors = []\n",
    "factors.extend(range(0,16))\n",
    "buildForest(factors, 0.5, 3, 300)"
   ]
  },
  {
   "cell_type": "code",
   "execution_count": null,
   "metadata": {
    "collapsed": true
   },
   "outputs": [],
   "source": [
    "def getFactorGroups(size, p, a):\n",
    "    groups = []\n",
    "    for i in range(0,a):\n",
    "        counterList = np.zeros(len(factors))\n",
    "        for c in range(0,int(1/p)):\n",
    "            group = []\n",
    "            while (len(group) < size * p):\n",
    "                available = []\n",
    "                for k in range(len(counterList)):\n",
    "                    if (counterList[k] < 1 and k not in group):\n",
    "                        available.append(k)\n",
    "                factor = available[random.randint(0, len(available)-1)]\n",
    "                counterList[factor] = counterList[factor] + 1 \n",
    "                group.append(factor)\n",
    "            groups.append(group)\n",
    "    return groups\n",
    "            "
   ]
  },
  {
   "cell_type": "code",
   "execution_count": null,
   "metadata": {
    "collapsed": false
   },
   "outputs": [],
   "source": [
    "print(V.itemFactors.shape)\n",
    "print(V.userFactors.shape)"
   ]
  },
  {
   "cell_type": "code",
   "execution_count": null,
   "metadata": {
    "collapsed": false
   },
   "outputs": [],
   "source": [
    "splitNode(V,0)\n",
    "print(V.right.itemFactors.shape)\n",
    "print(V.left.itemFactors.shape)\n",
    "print(V.right.userFactors.shape)\n",
    "print(V.left.userFactors.shape)\n",
    "printNode(V)"
   ]
  },
  {
   "cell_type": "code",
   "execution_count": null,
   "metadata": {
    "collapsed": false
   },
   "outputs": [],
   "source": [
    "factors = []\n",
    "factors.extend(range(0,s.size))\n",
    "buildTree(V,factors)"
   ]
  },
  {
   "cell_type": "code",
   "execution_count": null,
   "metadata": {
    "collapsed": false,
    "scrolled": true
   },
   "outputs": [],
   "source": [
    "print(\"ROOT :\")\n",
    "printTree(V)"
   ]
  },
  {
   "cell_type": "code",
   "execution_count": null,
   "metadata": {
    "collapsed": false
   },
   "outputs": [],
   "source": [
    "countLeaves(V)"
   ]
  },
  {
   "cell_type": "code",
   "execution_count": null,
   "metadata": {
    "collapsed": true
   },
   "outputs": [],
   "source": []
  }
 ],
 "metadata": {
  "anaconda-cloud": {},
  "kernelspec": {
   "display_name": "Python 2",
   "language": "python",
   "name": "python2"
  },
  "language_info": {
   "codemirror_mode": {
    "name": "ipython",
    "version": 2
   },
   "file_extension": ".py",
   "mimetype": "text/x-python",
   "name": "python",
   "nbconvert_exporter": "python",
   "pygments_lexer": "ipython2",
   "version": "2.7.13"
  }
 },
 "nbformat": 4,
 "nbformat_minor": 1
}
