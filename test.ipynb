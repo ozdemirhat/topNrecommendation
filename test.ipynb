{
 "cells": [
  {
   "cell_type": "markdown",
   "metadata": {},
   "source": [
    "# An ensemble method for top-N recommendations from the SVD"
   ]
  },
  {
   "cell_type": "markdown",
   "metadata": {},
   "source": [
    "## SVD"
   ]
  },
  {
   "cell_type": "code",
   "execution_count": null,
   "metadata": {
    "collapsed": true
   },
   "outputs": [],
   "source": [
    "import pandas as pd\n",
    "import numpy as np\n",
    "import scipy.sparse as sp\n",
    "from scipy.sparse.linalg import svds\n",
    "import pickle\n",
    "import copy \n",
    "import random"
   ]
  },
  {
   "cell_type": "code",
   "execution_count": null,
   "metadata": {},
   "outputs": [],
   "source": [
    "data_file = pd.read_table('data/training.csv', sep = ',', header=None, engine='python')\n",
    "print(data_file.shape)\n",
    "movie_file = pd.read_table('ml-1m/movies.dat', sep = '::', header=None, engine='python')\n",
    "print(movie_file.shape)"
   ]
  },
  {
   "cell_type": "code",
   "execution_count": null,
   "metadata": {
    "collapsed": true
   },
   "outputs": [],
   "source": [
    "#movies 3666(gercege karşılık gelen index) alıp 3952(gerçekid) döner, movie_indices 3952 alıp 3666 döner\n",
    "users = np.unique(data_file[0]) # 1(0.idex) den 6040(6039.index) a kadar\n",
    "movies = np.unique(movie_file[0]) # 1(0.idex) den 3952(3666.idex) ye kadar\n",
    "\n",
    "number_of_rows = len(users) #6040\n",
    "number_of_columns = len(movies) #3667\n",
    "\n",
    "movie_indices, user_indices = {}, {}\n",
    " \n",
    "for i in range(len(movies)):\n",
    "    movie_indices[movies[i]] = i # movie_indices[3952] = 3666 x.filmin indisini verir\n",
    "    \n",
    "for i in range(len(users)):\n",
    "    user_indices[users[i]] = i # x.userın indisini verir"
   ]
  },
  {
   "cell_type": "code",
   "execution_count": null,
   "metadata": {
    "collapsed": true
   },
   "outputs": [],
   "source": [
    "V = sp.lil_matrix((number_of_rows, number_of_columns))\n",
    "for line in data_file.values:\n",
    "    u, i , r , gona = map(int,line)\n",
    "    V[user_indices[u], movie_indices[i]] = r # gerçek user ve movie idnin indexini bulup ratingi matrixteki yere atar"
   ]
  },
  {
   "cell_type": "code",
   "execution_count": null,
   "metadata": {},
   "outputs": [],
   "source": [
    "print(users)\n",
    "print(user_indices[6000])\n",
    "print(movies)\n",
    "print(movie_indices[3952])\n",
    "#print (V[:3,:])\n",
    "print(movies.shape)"
   ]
  },
  {
   "cell_type": "code",
   "execution_count": null,
   "metadata": {},
   "outputs": [],
   "source": [
    "print(movies[253])\n",
    "print(movies[20])\n",
    "print(movies[0])\n",
    "print(movies)"
   ]
  },
  {
   "cell_type": "code",
   "execution_count": null,
   "metadata": {
    "collapsed": true
   },
   "outputs": [],
   "source": [
    "u,s, vt = svds(V, k = 16)"
   ]
  },
  {
   "cell_type": "code",
   "execution_count": null,
   "metadata": {
    "collapsed": true
   },
   "outputs": [],
   "source": [
    "s_diag_matrix = np.zeros((s.shape[0], s.shape[0]))\n",
    "\n",
    "for i in range(s.shape[0]):\n",
    "    s_diag_matrix[i,i] = s[i]"
   ]
  },
  {
   "cell_type": "code",
   "execution_count": null,
   "metadata": {
    "collapsed": true
   },
   "outputs": [],
   "source": [
    "X_lr = np.dot(np.dot(u, s_diag_matrix), vt)"
   ]
  },
  {
   "cell_type": "code",
   "execution_count": null,
   "metadata": {},
   "outputs": [],
   "source": [
    "negcounter = 0\n",
    "poscounter = 0\n",
    "for i in range(s.size-1,s.size):\n",
    "    for factor in vt[i,:]:\n",
    "        if factor > 0:\n",
    "            poscounter = poscounter + 1\n",
    "        else:\n",
    "            negcounter = negcounter + 1\n",
    "print(negcounter,poscounter)"
   ]
  },
  {
   "cell_type": "code",
   "execution_count": null,
   "metadata": {},
   "outputs": [],
   "source": [
    "X_lr[0,2354]"
   ]
  },
  {
   "cell_type": "code",
   "execution_count": null,
   "metadata": {
    "collapsed": true
   },
   "outputs": [],
   "source": [
    "#X_lr.tofile(file = 'data/svdresults.csv', sep = \"::\")"
   ]
  },
  {
   "cell_type": "code",
   "execution_count": null,
   "metadata": {},
   "outputs": [],
   "source": [
    "print(u.shape)\n",
    "deneme = np.dot(u, vt)\n"
   ]
  },
  {
   "cell_type": "code",
   "execution_count": null,
   "metadata": {},
   "outputs": [],
   "source": [
    "print(X_lr.shape, V.shape, deneme.shape)"
   ]
  },
  {
   "cell_type": "code",
   "execution_count": null,
   "metadata": {},
   "outputs": [],
   "source": [
    "print(user_indices[641],movie_indices[1210],user_indices[4388],movie_indices[3270],user_indices[1448],movie_indices[3270])\n",
    "print(user_indices[641],movie_indices[2424],user_indices[1280],movie_indices[3826],user_indices[4034],movie_indices[3578])\n",
    "print(user_indices[4779],movie_indices[1237],user_indices[588],movie_indices[1288],user_indices[4578],movie_indices[1120])\n",
    "print(user_indices[1100],movie_indices[3159],user_indices[4604],movie_indices[2003],user_indices[4578],movie_indices[1120])"
   ]
  },
  {
   "cell_type": "code",
   "execution_count": null,
   "metadata": {},
   "outputs": [],
   "source": [
    "\n",
    "print(V[1279, 3546],X_lr[1279, 3546],deneme[1279, 3546])\n",
    "print(V[1099, 2916],X_lr[1099, 2916],deneme[1099, 2916])\n",
    "\n",
    "print(V[4603, 1801],X_lr[4603, 1801],deneme[4603, 1801])\n",
    "\n",
    "print(V[4033, 3305],X_lr[4033, 3305],deneme[4033, 3305])\n",
    "print(V[640, 1108],X_lr[640, 1108],deneme[640, 1108])\n",
    "print(V[4387, 3017],X_lr[4387, 3017],deneme[4387, 3017])\n",
    "\n",
    "print(V[640, 2206],X_lr[640, 2206],deneme[640, 2206])\n",
    "print(V[587, 1184],X_lr[587, 1184],deneme[587, 1184])\n",
    "print(V[4577, 1033],X_lr[4577, 1033],deneme[4577, 1033])\n",
    "\n",
    "print(V[1447, 2760],X_lr[1447, 2760],deneme[1447, 2760])\n",
    "print(V[4778, 1134],X_lr[4778, 1134],deneme[4778, 1134])\n"
   ]
  },
  {
   "cell_type": "code",
   "execution_count": null,
   "metadata": {},
   "outputs": [],
   "source": [
    "print(np.min(X_lr))"
   ]
  },
  {
   "cell_type": "markdown",
   "metadata": {},
   "source": [
    "##  Model for Top-N Recommendations"
   ]
  },
  {
   "cell_type": "code",
   "execution_count": null,
   "metadata": {
    "collapsed": true
   },
   "outputs": [],
   "source": [
    "class Node:\n",
    "    def __init__(self,fsize):\n",
    "        self.itemFactors = np.empty(shape = (fsize,0))\n",
    "        self.userFactors = np.empty(shape = (fsize,0))\n",
    "        self.itemList = []\n",
    "        self.userList = []\n",
    "        self.factor = None\n",
    "        self.factors = []\n",
    "        self.score = 0\n",
    "        self.left = None\n",
    "        self.right = None"
   ]
  },
  {
   "cell_type": "code",
   "execution_count": null,
   "metadata": {},
   "outputs": [],
   "source": [
    "def fillLists(V):\n",
    "    for user in user_indices:\n",
    "        V.userList.append(user-1)\n",
    "    for item in movie_indices:\n",
    "        V.itemList.append(item-1)\n",
    "def restartV():\n",
    "    V = Node(s.size)\n",
    "    V.itemFactors = vt\n",
    "    V.userFactors = u\n",
    "    fillLists(V)\n",
    "    factors = []\n",
    "    factors.extend(range(0,s.size))\n",
    "    V.factors = factors\n",
    "    return V\n",
    "V = restartV()\n",
    "print(len(V.userList))"
   ]
  },
  {
   "cell_type": "code",
   "execution_count": null,
   "metadata": {
    "collapsed": true
   },
   "outputs": [],
   "source": [
    "def printNode(node):\n",
    "    print(\"itemFactors :\") \n",
    "    #print(node.itemFactors)\n",
    "    print(node.itemFactors.shape)\n",
    "    print(\"userFactors :\")\n",
    "    #print(node.userFactors)\n",
    "    print(node.userFactors.shape)\n",
    "    print(\"factor :\")\n",
    "    print(node.factor)\n",
    "    print(\"score :\")\n",
    "    print(node.score)\n",
    "    print(\"left :\")\n",
    "    print(node.left)\n",
    "    print(\"right :\")\n",
    "    print(node.right)\n",
    "def printTree(node):\n",
    "    printNode(node)\n",
    "    if (node.left != None):\n",
    "        print(\"LEFT :\")\n",
    "        printTree(node.left)\n",
    "    if (node.right != None):\n",
    "        print(\"RIGHT :\")\n",
    "        printTree(node.right)\n",
    "def countLeaves(node):\n",
    "    count = 0\n",
    "    if (node.left != None):\n",
    "        if (node.left.itemFactors.shape[1] <= 300):\n",
    "            count += 1\n",
    "        else:\n",
    "            count += countLeaves(node.left)\n",
    "    else:\n",
    "        print(node.itemFactors.shape[1])\n",
    "        print(\"ERROR\")\n",
    "    if (node.right != None):\n",
    "        if (node.right.itemFactors.shape[1] <= 300):\n",
    "            count += 1\n",
    "        else:\n",
    "            count += countLeaves(node.right)\n",
    "    else:\n",
    "        print(node.itemFactors.shape[1])\n",
    "        print(\"ERROR\")\n",
    "    return count"
   ]
  },
  {
   "cell_type": "code",
   "execution_count": null,
   "metadata": {},
   "outputs": [],
   "source": [
    "V.itemFactors.shape"
   ]
  },
  {
   "cell_type": "code",
   "execution_count": null,
   "metadata": {},
   "outputs": [],
   "source": [
    "V.userFactors.shape"
   ]
  },
  {
   "cell_type": "code",
   "execution_count": null,
   "metadata": {
    "collapsed": true
   },
   "outputs": [],
   "source": [
    "def splitNode(node, factor):\n",
    "    #print(\"splitNode: \", node.factors, factor)\n",
    "    factorIndex = node.factors.index(factor)\n",
    "    node.left = Node(len(node.factors))\n",
    "    node.right = Node(len(node.factors))\n",
    "    node.left.factors = node.factors\n",
    "    node.right.factors = node.factors\n",
    "    left = 0 #flag and counter\n",
    "    right = 0\n",
    "    empt = Node(len(node.factors))\n",
    "    \n",
    "    node.right.userFactors = np.transpose(node.right.userFactors)\n",
    "    node.left.userFactors = np.transpose(node.left.userFactors)\n",
    "    node.right.itemFactors = np.transpose(node.right.itemFactors)\n",
    "    node.left.itemFactors = np.transpose(node.left.itemFactors)\n",
    "    \n",
    "    \n",
    "    #print(\"item: \", node.itemFactors.shape, factor, len(node.itemList))\n",
    "    #print(\"user: \", node.userFactors.shape, factor, len(node.userList))\n",
    "    if (np.array_equal(node.itemFactors, empt.itemFactors) == False):   #bos item factor girebilir mi cond dene\n",
    "    #if (len(node.itemFactors.shape) > 1):   #bos item factor girebilir mi cond dene\n",
    "        #print(node.itemFactors.shape)\n",
    "        for i in range(node.itemFactors.shape[1]):\n",
    "            #print(node.itemFactors[:, i])\n",
    "            if (node.itemFactors[:, i][factorIndex] >= 0 ):\n",
    "                if (left == 0):\n",
    "                    node.left.itemFactors = node.itemFactors[:, i]\n",
    "                else:\n",
    "                    node.left.itemFactors = np.vstack((node.left.itemFactors, node.itemFactors[:, i]))\n",
    "                node.left.itemList.append(node.itemList[i])\n",
    "                left += 1\n",
    "            else:\n",
    "                #continue\n",
    "                if (right == 0):\n",
    "                    node.right.itemFactors = node.itemFactors[:, i]\n",
    "                else:\n",
    "                    node.right.itemFactors =np.vstack((node.right.itemFactors, node.itemFactors[:, i]))\n",
    "                node.right.itemList.append(node.itemList[i])\n",
    "                right += 1\n",
    "        node.left.itemFactors = np.transpose(node.left.itemFactors)\n",
    "        node.right.itemFactors = np.transpose(node.right.itemFactors)\n",
    "    else:\n",
    "        print('itemFactors not available')\n",
    "    left = 0\n",
    "    right = 0\n",
    "    if (np.array_equal(node.userFactors, empt.userFactors) == False):   #bos user factor girebilme ihtimali dusun\n",
    "    #if (len(node.userFactors.shape) > 1):   #bos user factor girebilme ihtimali dusun\n",
    "        #print(node.userFactors.shape)\n",
    "        for i in range(node.userFactors.shape[0]):\n",
    "            if (node.userFactors[i, :][factorIndex] >= 0 ):\n",
    "                if (left == 0):\n",
    "                    node.left.userFactors = node.userFactors[i, :]\n",
    "                else:\n",
    "                    node.left.userFactors = np.vstack((node.left.userFactors, node.userFactors[i, :]))\n",
    "                node.left.userList.append(node.userList[i])\n",
    "                left += 1\n",
    "            else:\n",
    "                if (right == 0):\n",
    "                    node.right.userFactors = node.userFactors[i, :]\n",
    "                else:\n",
    "                    node.right.userFactors = np.vstack((node.right.userFactors, node.userFactors[i, :]))\n",
    "                node.right.userList.append(node.userList[i])\n",
    "                right += 1\n",
    "    else:\n",
    "        print('userFactors not available')\n",
    "    node.score =  computePrecision(node)"
   ]
  },
  {
   "cell_type": "code",
   "execution_count": null,
   "metadata": {
    "collapsed": true
   },
   "outputs": [],
   "source": [
    "def findTopN(matrix, N):\n",
    "    #print(matrix.shape)\n",
    "    newMatrix = matrix.argsort(axis = 1)\n",
    "    newMatrix = np.fliplr(newMatrix)\n",
    "    return newMatrix[:,:N]\n",
    "    "
   ]
  },
  {
   "cell_type": "code",
   "execution_count": null,
   "metadata": {},
   "outputs": [],
   "source": [
    "mx = findTopN(X_lr, 5)\n",
    "print(mx)\n",
    "print(mx.shape)\n",
    "print(mx[6039,:])"
   ]
  },
  {
   "cell_type": "code",
   "execution_count": null,
   "metadata": {},
   "outputs": [],
   "source": [
    "precisionAt = 5\n",
    "def computePrecision(node):\n",
    "    \n",
    "    diag_matrix = np.zeros((len(node.factors), len(node.factors)))\n",
    "    for i in range(len(node.factors)):\n",
    "        diag_matrix[i,i] = s_diag_matrix[node.factors,node.factors][i]\n",
    "    \n",
    "    relevantRight = np.dot(np.dot(node.right.userFactors,diag_matrix), node.right.itemFactors)\n",
    "    relevantLeft = np.dot(np.dot(node.left.userFactors,diag_matrix), node.left.itemFactors)\n",
    "    topRight = findTopN(relevantRight, precisionAt)\n",
    "    topLeft = findTopN(relevantLeft, precisionAt)\n",
    "    #print(topRight.shape)\n",
    "    #print(topLeft.shape)\n",
    "    \n",
    "    samePlace = 0\n",
    "    inTopN = 0\n",
    "    for u in range(len(node.left.userList)):\n",
    "        #print(u)\n",
    "        #print(node.left.userList[u])\n",
    "        for i in range(precisionAt):\n",
    "            #print(node.left.itemList[topLeft[0,:][i]])\n",
    "            if (node.left.itemList[topLeft[u,:][i]] == mx[node.left.userList[u],:][i]):\n",
    "                #print(\"ALLAH\")\n",
    "                #print(node.left.itemList[topLeft[u,:][i]])\n",
    "                #print(mx[node.left.userList[u],:])\n",
    "                samePlace += 1\n",
    "            if node.left.itemList[topLeft[u,:][i]] in mx[node.left.userList[u],:]:\n",
    "                inTopN += 1\n",
    "    for u in range(len(node.right.userList)):\n",
    "        #print(u)\n",
    "        #print(node.right.userList[u])\n",
    "        for i in range(precisionAt):\n",
    "            #print(node.right.itemList[topRight[0,:][i]])\n",
    "            if (node.right.itemList[topRight[u,:][i]] == mx[node.right.userList[u],:][i]):\n",
    "                #print(node.right.itemList[topRight[u,:][i]])\n",
    "                #print(mx[node.right.userList[u],:])\n",
    "                samePlace += 1\n",
    "            if node.right.itemList[topRight[u,:][i]] in mx[node.right.userList[u],:]:\n",
    "                inTopN += 1\n",
    "    #print(samePlace)\n",
    "    #print(inTopN)\n",
    "    ret = float(inTopN)/(len(node.userList)*precisionAt)\n",
    "    #ret = float(samePlace)/(len(node.userList)*precisionAt)\n",
    "    print(ret)\n",
    "    return ret\n",
    "    "
   ]
  },
  {
   "cell_type": "code",
   "execution_count": null,
   "metadata": {},
   "outputs": [],
   "source": [
    "splitNode(V, 15)"
   ]
  },
  {
   "cell_type": "code",
   "execution_count": null,
   "metadata": {
    "collapsed": true
   },
   "outputs": [],
   "source": [
    "def buildTree(node, factors):\n",
    "    #printNode(node)\n",
    "    print(factors)\n",
    "    # TODO : user yoksa bolunmeyi durdur\n",
    "    if (len(node.itemFactors.shape) > 1 and node.itemFactors.shape[1] <= 300):\n",
    "        print(\"Threshold value is reached\")\n",
    "        return node\n",
    "    elif (len(node.itemFactors.shape) <= 1):\n",
    "        print('one item factor')\n",
    "        return node\n",
    "    elif (node.itemFactors.shape[1] == 0):\n",
    "        print('no item factor')\n",
    "        return node\n",
    "    winner = Node(len(node.factors))\n",
    "    if not factors:\n",
    "        print('factors empty')\n",
    "        return node\n",
    "    for factor in factors:\n",
    "        node.factor = factor\n",
    "        splitNode(node,factor)\n",
    "        if (node.score >= winner.score):\n",
    "            winner = copy.deepcopy(node) \n",
    "    #print(winner.score)\n",
    "    #print(winner.factor)\n",
    "    factors.remove(winner.factor)\n",
    "    node.factor = winner.factor\n",
    "    lfactors = list(factors)\n",
    "    rfactors = list(factors)\n",
    "    node.left = buildTree(winner.left, lfactors)     # TODO : validate\n",
    "    node.right = buildTree(winner.right, rfactors)   # TODO : validate\n",
    "    return node\n",
    "    "
   ]
  },
  {
   "cell_type": "code",
   "execution_count": null,
   "metadata": {},
   "outputs": [],
   "source": [
    "print(V.itemFactors.shape)\n",
    "print(V.userFactors.shape)"
   ]
  },
  {
   "cell_type": "code",
   "execution_count": null,
   "metadata": {},
   "outputs": [],
   "source": [
    "splitNode(V,0)\n",
    "print(V.right.itemFactors.shape)\n",
    "print(V.left.itemFactors.shape)\n",
    "print(V.right.userFactors.shape)\n",
    "print(V.left.userFactors.shape)\n",
    "printNode(V)"
   ]
  },
  {
   "cell_type": "code",
   "execution_count": null,
   "metadata": {},
   "outputs": [],
   "source": [
    "V = restartV()\n",
    "factors = []\n",
    "factors.extend(range(0,s.size))\n",
    "V = buildTree(V,factors)"
   ]
  },
  {
   "cell_type": "code",
   "execution_count": null,
   "metadata": {
    "scrolled": true
   },
   "outputs": [],
   "source": [
    "print(\"ROOT :\")\n",
    "printTree(V)"
   ]
  },
  {
   "cell_type": "code",
   "execution_count": null,
   "metadata": {},
   "outputs": [],
   "source": [
    "countLeaves(V)"
   ]
  },
  {
   "cell_type": "code",
   "execution_count": null,
   "metadata": {
    "collapsed": true
   },
   "outputs": [],
   "source": [
    "def getFactorGroups(size, p, a):\n",
    "    groups = []\n",
    "    for i in range(0,a):\n",
    "        counterList = np.zeros(len(factors))\n",
    "        for c in range(0,int(1/p)):\n",
    "            group = []\n",
    "            while (len(group) < size * p):\n",
    "                available = []\n",
    "                for k in range(len(counterList)):\n",
    "                    if (counterList[k] < 1 and k not in group):\n",
    "                        available.append(k)\n",
    "                factor = available[random.randint(0, len(available)-1)]\n",
    "                counterList[factor] = counterList[factor] + 1 \n",
    "                group.append(factor)\n",
    "            group.sort()\n",
    "            groups.append(group)\n",
    "    return groups\n",
    "            "
   ]
  },
  {
   "cell_type": "code",
   "execution_count": null,
   "metadata": {
    "collapsed": true
   },
   "outputs": [],
   "source": [
    "def buildForest(factors, p, a, sl):\n",
    "    forest = []\n",
    "    groups = getFactorGroups(len(factors), p, a)\n",
    "    for group in groups:\n",
    "        print(group)\n",
    "        V = Node(len(group))\n",
    "        V.itemFactors = vt[group,:]\n",
    "        V.userFactors = u[:,group]\n",
    "        fillLists(V)\n",
    "        V.factors = group\n",
    "        buildTree(V,group)\n",
    "        forest.append(V)\n",
    "    return forest"
   ]
  },
  {
   "cell_type": "code",
   "execution_count": null,
   "metadata": {},
   "outputs": [],
   "source": [
    "factors = []\n",
    "factors.extend(range(0,16))\n",
    "forest = buildForest(factors, 0.5, 3, 300)"
   ]
  },
  {
   "cell_type": "code",
   "execution_count": null,
   "metadata": {},
   "outputs": [],
   "source": [
    "print(forest)"
   ]
  },
  {
   "cell_type": "code",
   "execution_count": null,
   "metadata": {},
   "outputs": [],
   "source": [
    "for node in forest:\n",
    "    print(countLeaves(node))"
   ]
  },
  {
   "cell_type": "code",
   "execution_count": null,
   "metadata": {},
   "outputs": [],
   "source": [
    "printTree(forest[3])"
   ]
  },
  {
   "cell_type": "markdown",
   "metadata": {},
   "source": [
    "# # Testing Model"
   ]
  },
  {
   "cell_type": "code",
   "execution_count": null,
   "metadata": {},
   "outputs": [],
   "source": [
    "test_file = pd.read_table('data/test.csv', sep = ',', header=None, engine='python')\n",
    "test_file.shape"
   ]
  },
  {
   "cell_type": "code",
   "execution_count": null,
   "metadata": {},
   "outputs": [],
   "source": [
    "#movies 3666(gercege karşılık gelen index) alıp 3952(gerçekid) döner, movie_indices 3952 alıp 3666 döner\n",
    "test_users = np.unique(test_file[0]) # 1(0.idex) den 6040(6039.index) a kadar\n",
    "#test_movies = np.unique(test_file[1]) # 1(0.idex) den 3952(3666.idex) ye kadar\n",
    "\n",
    "test_number_of_rows = len(test_users) #6040\n",
    "#test_number_of_columns = len(test_movies) #3667\n",
    "\n",
    "#test_movie_indices = {}\n",
    "test_user_indices = {}\n",
    " \n",
    "#for i in range(len(test_movies)):\n",
    "#    test_movie_indices[test_movies[i]] = i # movie_indices[3952] = 3666 x.filmin indisini verir\n",
    "    \n",
    "for i in range(len(test_users)):\n",
    "    test_user_indices[test_users[i]] = i # x.userın indisini verir\n",
    "print(len(movie_indices))"
   ]
  },
  {
   "cell_type": "code",
   "execution_count": null,
   "metadata": {},
   "outputs": [],
   "source": [
    "test_V = sp.lil_matrix((test_number_of_rows, number_of_columns))\n",
    "for line in test_file.values:\n",
    "    test_u, test_i , test_r , test_gona = map(int,line)\n",
    "    if test_i in movie_indices:\n",
    "        print(test_user_indices[test_u],movie_indices[test_i],r)\n",
    "        test_V[test_user_indices[test_u], movie_indices[test_i]] = test_r # gerçek user ve movie idnin indexini bulup ratingi matrixteki yere atar\n",
    "    else:\n",
    "        print(\"kekt\",test_user_indices[test_u],test_i,r)"
   ]
  },
  {
   "cell_type": "code",
   "execution_count": null,
   "metadata": {
    "collapsed": true
   },
   "outputs": [],
   "source": [
    "def isLeaf(node):\n",
    "    #print(node.itemFactors.shape)\n",
    "    if len(node.itemFactors.shape) < 2:\n",
    "        print(\"error\")\n",
    "    elif node.itemFactors.shape[1] < 300:\n",
    "        #print(\"zaa\")\n",
    "        return True\n",
    "    elif node.factor == None:\n",
    "        return True\n",
    "    return False\n",
    "def isEmpty(node):\n",
    "    empt = Node(len(node.factors))\n",
    "    if np.array_equal(node.itemFactors, empt.itemFactors):\n",
    "        return True\n",
    "    return False"
   ]
  },
  {
   "cell_type": "code",
   "execution_count": null,
   "metadata": {},
   "outputs": [],
   "source": [
    "def recommend(index):\n",
    "    userFactors = u[index]\n",
    "    topIndexList = []\n",
    "    topList = []\n",
    "    counter = 0\n",
    "    for tree in forest:\n",
    "        node = tree\n",
    "        while not isLeaf(node):\n",
    "            if userFactors[node.factor] >= 0:\n",
    "                if not isEmpty(node.left):\n",
    "                    node = node.left\n",
    "                else:\n",
    "                    break\n",
    "            else:\n",
    "                if not isEmpty(node.right):\n",
    "                    node = node.right\n",
    "                else:\n",
    "                    break\n",
    "        \n",
    "        test_diag_matrix = np.zeros((len(node.factors), len(node.factors)))\n",
    "        for i in range(len(node.factors)):\n",
    "            test_diag_matrix[i,i] = s_diag_matrix[node.factors,node.factors][i]\n",
    "        \n",
    "        relevant = np.dot(np.dot(userFactors[node.factors],test_diag_matrix), node.itemFactors)\n",
    "        indexMatrix = relevant.argsort()[::-1]#[:precisionAt]\n",
    "        indexList = []\n",
    "        nodeIndexList = []\n",
    "        dictList = []\n",
    "        for i in indexMatrix:\n",
    "            if node.itemList[i] in movies[np.nonzero(test_V[index,:])[1]]:\n",
    "                indexList.append(node.itemList[i])\n",
    "                nodeIndexList.append(i)\n",
    "                #dictList.append({node.itemList[i]:relevant[i]})\n",
    "                dictList.append((node.itemList[i],relevant[i]))\n",
    "            #print(node.itemList[i], i)\n",
    "            #indexList.append(node.itemList[i])\n",
    "        dotMatrix = relevant[nodeIndexList]\n",
    "        for tupl in dictList:\n",
    "            topList.append(tupl)\n",
    "        topIndexList.append(indexList)\n",
    "        counter += 1\n",
    "    topList.sort(key=lambda x: x[1], reverse=True)\n",
    "    result = []\n",
    "    for item in topList:\n",
    "        if not item[0] in result:\n",
    "            result.append(item[0])\n",
    "    return result"
   ]
  },
  {
   "cell_type": "code",
   "execution_count": null,
   "metadata": {},
   "outputs": [],
   "source": [
    "print(np.nonzero(test_V[1,:])[1])\n",
    "#print(movies[np.nonzero(test_V[0,:])"
   ]
  },
  {
   "cell_type": "code",
   "execution_count": null,
   "metadata": {},
   "outputs": [],
   "source": [
    "result = recommend(1)\n",
    "print(result)"
   ]
  },
  {
   "cell_type": "code",
   "execution_count": null,
   "metadata": {},
   "outputs": [],
   "source": [
    "print(u[1])"
   ]
  },
  {
   "cell_type": "code",
   "execution_count": null,
   "metadata": {},
   "outputs": [],
   "source": [
    "def computeUserAccuracy(index):\n",
    "    computedMovies = recommend(index)\n",
    "    if not computedMovies:\n",
    "        return 0\n",
    "    weightedSum = 0\n",
    "    weights = []\n",
    "    if precisionAt > len(computedMovies):\n",
    "        weights.extend(range(1,len(computedMovies) + 1))\n",
    "    else:\n",
    "        weights.extend(range(1,precisionAt + 1))\n",
    "    counter = weights[-1]\n",
    "    sumWeight = (counter * (counter +1)) /2\n",
    "    for recommendation in computedMovies:\n",
    "        if (counter != 0):\n",
    "            weightedSum = weightedSum + test_V[index, movie_indices[recommendation]] * counter\n",
    "            counter = counter - 1  \n",
    "    return float(weightedSum / (sumWeight*5))"
   ]
  },
  {
   "cell_type": "code",
   "execution_count": null,
   "metadata": {},
   "outputs": [],
   "source": [
    "def computeAccuracy():\n",
    "    empty = 0\n",
    "    sumUserAccuracy = 0.0\n",
    "    for user in range(0,test_V.shape[0]):\n",
    "        userAccuracy = computeUserAccuracy(user)\n",
    "        if (userAccuracy == 0):\n",
    "            empty = empty + 1\n",
    "        sumUserAccuracy = sumUserAccuracy + userAccuracy\n",
    "        print(userAccuracy)\n",
    "    print(empty)\n",
    "    print(float(sumUserAccuracy / (test_V.shape[0] - empty)))\n",
    "        "
   ]
  },
  {
   "cell_type": "code",
   "execution_count": null,
   "metadata": {
    "scrolled": true
   },
   "outputs": [],
   "source": [
    "computeAccuracy()"
   ]
  },
  {
   "cell_type": "code",
   "execution_count": null,
   "metadata": {},
   "outputs": [],
   "source": [
    "print(movies[np.nonzero(test_V[1,:])[1]])\n",
    "print(test_V[1,np.nonzero(test_V[1,:])[1]])\n",
    "\n"
   ]
  },
  {
   "cell_type": "code",
   "execution_count": null,
   "metadata": {
    "collapsed": true
   },
   "outputs": [],
   "source": []
  }
 ],
 "metadata": {
  "anaconda-cloud": {},
  "kernelspec": {
   "display_name": "Python 3",
   "language": "python",
   "name": "python3"
  },
  "language_info": {
   "codemirror_mode": {
    "name": "ipython",
    "version": 3
   },
   "file_extension": ".py",
   "mimetype": "text/x-python",
   "name": "python",
   "nbconvert_exporter": "python",
   "pygments_lexer": "ipython3",
   "version": "3.6.1"
  }
 },
 "nbformat": 4,
 "nbformat_minor": 1
}
