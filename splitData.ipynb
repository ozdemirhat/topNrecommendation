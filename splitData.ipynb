{
 "cells": [
  {
   "cell_type": "code",
   "execution_count": null,
   "metadata": {
    "collapsed": true
   },
   "outputs": [],
   "source": [
    "import pandas as pd\n",
    "import numpy as np\n",
    "import scipy.sparse as sp\n",
    "import random"
   ]
  },
  {
   "cell_type": "code",
   "execution_count": null,
   "metadata": {
    "collapsed": true
   },
   "outputs": [],
   "source": [
    "ratingsFilePath = 'ml-1m/ratings.dat'\n",
    "itemFilePath = 'ml-1m/movies.dat'\n",
    "trainingFilePath = 'data/training.csv'\n",
    "testFilePath = 'data/test.csv'\n",
    "\n",
    "ratingsFileSep = '::'\n",
    "itemFileSep = '::'"
   ]
  },
  {
   "cell_type": "code",
   "execution_count": null,
   "metadata": {
    "collapsed": true
   },
   "outputs": [],
   "source": [
    "data_file = pd.read_table(ratingsFilePath, sep=ratingsFileSep, header=None, engine='python')\n",
    "item_file = pd.read_table(itemFilePath, sep=itemFileSep, header=None, engine='python')"
   ]
  },
  {
   "cell_type": "code",
   "execution_count": null,
   "metadata": {
    "collapsed": true
   },
   "outputs": [],
   "source": [
    "users = np.unique(data_file[0])\n",
    "items = np.unique(item_file[0])\n",
    "\n",
    "numberOfUsers = len(users)\n",
    "numberOfItems = len(items)\n",
    "\n",
    "item_indices, user_indices = {}, {}\n",
    "\n",
    "for i in range(len(items)):\n",
    "    item_indices[items[i]] = i\n",
    "\n",
    "for i in range(len(users)):\n",
    "    user_indices[users[i]] = i"
   ]
  },
  {
   "cell_type": "code",
   "execution_count": null,
   "metadata": {
    "collapsed": true
   },
   "outputs": [],
   "source": [
    "V = sp.lil_matrix((numberOfUsers, numberOfItems))\n",
    "T = sp.lil_matrix((numberOfUsers, numberOfItems))\n",
    "for line in data_file.values:\n",
    "    u, i, r, time = map(int, line)\n",
    "    V[user_indices[u], item_indices[i]] = r\n",
    "    T[user_indices[u], item_indices[i]] = time"
   ]
  },
  {
   "cell_type": "code",
   "execution_count": null,
   "metadata": {
    "collapsed": true
   },
   "outputs": [],
   "source": [
    "ratio = 0.3\n",
    "training = []\n",
    "test = []\n",
    "for user in range(V.shape[0]):\n",
    "    nonzero = np.nonzero(V[user, :])[1]\n",
    "    testsize = len(nonzero) * ratio\n",
    "    while len(nonzero) > testsize:\n",
    "        x = random.randint(0, len(nonzero) - 1)\n",
    "        training.append((user + 1, items[nonzero[x]], V[user, nonzero[x]], T[user, nonzero[x]]))\n",
    "        nonzero = np.delete(nonzero, x)\n",
    "    for item in nonzero:\n",
    "        test.append((user + 1, items[item], V[user, item], T[user, item]))"
   ]
  },
  {
   "cell_type": "code",
   "execution_count": null,
   "metadata": {
    "collapsed": true
   },
   "outputs": [],
   "source": [
    "training_file = open(trainingFilePath, 'r+')\n",
    "test_file = open(testFilePath, 'r+')\n",
    "training_file.truncate()\n",
    "test_file.truncate()\n",
    "for row in training:\n",
    "    training_file.write(str(row[0]) + \",\" + str(row[1]) + \",\" + str(int(row[2])) + \",\" + str(int(row[3])) + \"\\n\")\n",
    "training_file.close()\n",
    "for row in test:\n",
    "    test_file.write(str(row[0]) + \",\" + str(row[1]) + \",\" + str(int(row[2])) + \",\" + str(int(row[3])) + \"\\n\")\n",
    "test_file.close()"
   ]
  },
  {
   "cell_type": "code",
   "execution_count": null,
   "metadata": {
    "collapsed": true
   },
   "outputs": [],
   "source": []
  }
 ],
 "metadata": {
  "kernelspec": {
   "display_name": "Python 3",
   "language": "python",
   "name": "python3"
  },
  "language_info": {
   "codemirror_mode": {
    "name": "ipython",
    "version": 3
   },
   "file_extension": ".py",
   "mimetype": "text/x-python",
   "name": "python",
   "nbconvert_exporter": "python",
   "pygments_lexer": "ipython3",
   "version": "3.6.1"
  }
 },
 "nbformat": 4,
 "nbformat_minor": 2
}
