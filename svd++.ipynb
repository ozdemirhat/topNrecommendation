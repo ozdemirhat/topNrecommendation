{
 "cells": [
  {
   "cell_type": "code",
   "execution_count": null,
   "metadata": {
    "collapsed": true
   },
   "outputs": [],
   "source": [
    "import pandas as pd\n",
    "import numpy as np\n",
    "import scipy.sparse as sp\n",
    "from scipy.sparse.linalg import svds\n",
    "import pickle\n",
    "import surprise as srp"
   ]
  },
  {
   "cell_type": "code",
   "execution_count": null,
   "metadata": {
    "collapsed": false
   },
   "outputs": [],
   "source": [
    "# path to dataset file\n",
    "#file_path = os.path.expanduser('~/.surprise_data/ml-100k/ml-100k/u.data')\n",
    "\n",
    "# As we're loading a custom dataset, we need to define a reader. In the\n",
    "# movielens-100k dataset, each line has the following format:\n",
    "# 'user item rating timestamp', separated by '\\t' characters.\n",
    "# and split it into 3 folds for cross-validation.\n",
    "reader = srp.Reader(line_format='user item rating timestamp', sep=',')\n",
    "\n",
    "data = srp.Dataset.load_from_file('data/training.dat', reader=reader)\n",
    "data.split(n_folds=3)\n"
   ]
  },
  {
   "cell_type": "code",
   "execution_count": null,
   "metadata": {
    "collapsed": false
   },
   "outputs": [],
   "source": [
    "# We'll use the famous SVD algorithm.\n",
    "algo = srp.SVD()\n",
    "\n",
    "for trainset, testset in data.folds():\n",
    "\n",
    "    # train and test algorithm.\n",
    "    algo.train(trainset)\n",
    "    predictions = algo.test(testset)\n",
    "\n",
    "    # Compute and print Root Mean Squared Error\n",
    "    rmse = srp.accuracy.rmse(predictions, verbose=True)"
   ]
  },
  {
   "cell_type": "code",
   "execution_count": null,
   "metadata": {
    "collapsed": false
   },
   "outputs": [],
   "source": [
    "uid = str(1)  # raw user id (as in the ratings file). They are **strings**!\n",
    "iid = str(48)  # raw item id (as in the ratings file). They are **strings**!\n",
    "\n",
    "# get a prediction for specific users and items.\n",
    "pred = algo.predict(uid, iid, r_ui=4, verbose=True)"
   ]
  },
  {
   "cell_type": "code",
   "execution_count": null,
   "metadata": {
    "collapsed": false
   },
   "outputs": [],
   "source": [
    "predictions[1]"
   ]
  },
  {
   "cell_type": "code",
   "execution_count": null,
   "metadata": {
    "collapsed": false
   },
   "outputs": [],
   "source": [
    "pred = algo.predict(uid, iid, r_ui=5, verbose=True)"
   ]
  },
  {
   "cell_type": "code",
   "execution_count": null,
   "metadata": {
    "collapsed": false
   },
   "outputs": [],
   "source": [
    "pred = algo.predict(uid, iid, r_ui=1, verbose=True)"
   ]
  },
  {
   "cell_type": "code",
   "execution_count": null,
   "metadata": {
    "collapsed": false
   },
   "outputs": [],
   "source": [
    "pred = algo.predict(uid, iid, r_ui=0, verbose=True)"
   ]
  },
  {
   "cell_type": "code",
   "execution_count": null,
   "metadata": {
    "collapsed": false
   },
   "outputs": [],
   "source": [
    "print predictions[1]"
   ]
  },
  {
   "cell_type": "code",
   "execution_count": null,
   "metadata": {
    "collapsed": false
   },
   "outputs": [],
   "source": [
    "print predictions[1][0]"
   ]
  },
  {
   "cell_type": "code",
   "execution_count": null,
   "metadata": {
    "collapsed": false
   },
   "outputs": [],
   "source": [
    "test_file = pd.read_table('data/test.csv', sep = ',', header=None, engine='python')\n",
    "print test_file.shape\n",
    "movie_file = pd.read_table('ml-1m/movies.dat', sep = '::', header=None, engine='python')\n",
    "print(movie_file.shape)"
   ]
  },
  {
   "cell_type": "code",
   "execution_count": null,
   "metadata": {
    "collapsed": false
   },
   "outputs": [],
   "source": [
    "#movies 3666(gercege karşılık gelen index) alıp 3952(gerçekid) döner, movie_indices 3952 alıp 3666 döner\n",
    "test_users = np.unique(test_file[0]) # 1(0.idex) den 6040(6039.index) a kadar\n",
    "movies = np.unique(movie_file[0])\n",
    "\n",
    "test_number_of_rows = len(test_users) #6040\n",
    "number_of_columns = len(movies) #3667\n",
    "\n",
    "movie_indices, test_user_indices = {}, {}\n",
    " \n",
    "for i in range(len(movies)):\n",
    "    movie_indices[movies[i]] = i # movie_indices[3952] = 3666 x.filmin indisini verir\n",
    "  \n",
    "for i in range(len(test_users)):\n",
    "    test_user_indices[test_users[i]] = i # x.userın indisini verir\n",
    "print(len(movie_indices))"
   ]
  },
  {
   "cell_type": "code",
   "execution_count": null,
   "metadata": {
    "collapsed": true
   },
   "outputs": [],
   "source": [
    "V = sp.lil_matrix((test_number_of_rows, number_of_columns))\n",
    "for line in test_file.values:\n",
    "    u, i , r , time = map(int,line)\n",
    "    V[test_user_indices[u], movie_indices[i]] = r # gerçek user ve movie idnin indexini bulup ratingi matrixteki yere atar"
   ]
  },
  {
   "cell_type": "code",
   "execution_count": null,
   "metadata": {
    "collapsed": false
   },
   "outputs": [],
   "source": [
    "P = sp.lil_matrix((test_number_of_rows, number_of_columns))\n",
    "for user in range(test_number_of_rows):\n",
    "    for movie in np.nonzero(V[user,:])[1]:\n",
    "        pred = algo.predict(str(test_users[user]), str(movies[movie]), r_ui=0, verbose=False)\n",
    "        P[user, movie] = pred[3]"
   ]
  },
  {
   "cell_type": "code",
   "execution_count": null,
   "metadata": {
    "collapsed": false
   },
   "outputs": [],
   "source": [
    "def recommend(index):\n",
    "    indexList = np.nonzero(P[index,:])[1]\n",
    "    relevant = P[index,indexList]\n",
    "    print(indexList)\n",
    "    print(relevant)\n",
    "    indexSort = relevant.argsort()\n",
    "    print(indexSort)\n",
    "    for i in indexList:\n",
    "        print(i)\n",
    "recommend(0)"
   ]
  },
  {
   "cell_type": "code",
   "execution_count": null,
   "metadata": {
    "collapsed": false
   },
   "outputs": [],
   "source": [
    "x = np.argsort(P, axis=0)\n",
    "print x"
   ]
  },
  {
   "cell_type": "code",
   "execution_count": null,
   "metadata": {
    "collapsed": false
   },
   "outputs": [],
   "source": []
  },
  {
   "cell_type": "code",
   "execution_count": null,
   "metadata": {
    "collapsed": true
   },
   "outputs": [],
   "source": []
  }
 ],
 "metadata": {
  "kernelspec": {
   "display_name": "Python 2",
   "language": "python",
   "name": "python2"
  },
  "language_info": {
   "codemirror_mode": {
    "name": "ipython",
    "version": 2
   },
   "file_extension": ".py",
   "mimetype": "text/x-python",
   "name": "python",
   "nbconvert_exporter": "python",
   "pygments_lexer": "ipython2",
   "version": "2.7.13"
  }
 },
 "nbformat": 4,
 "nbformat_minor": 2
}
